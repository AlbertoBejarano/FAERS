{
 "cells": [
  {
   "cell_type": "code",
   "execution_count": 1,
   "id": "6e919534-f35a-498e-95a9-47e55cca23e2",
   "metadata": {},
   "outputs": [],
   "source": [
    "# 00_openFDA_AEs_Data_v03\n",
    "# Author: Alberto Bejarano (2025)\n",
    "# This script retrieves adverse event data from the FDA Open API for a list of drugs"
   ]
  },
  {
   "cell_type": "code",
   "execution_count": 2,
   "id": "ff852c02-77bf-4287-96b9-2c3afd84752e",
   "metadata": {},
   "outputs": [],
   "source": [
    "# This script queries the FDA Adverse Event Reporting System (FAERS) API to retrieve and analyze adverse events associated\n",
    "# with a curated list of drugs, including synonyms defined in a dictionary. It handles batching, safe retries, and structured\n",
    "# parsing of seriousness outcomes (e.g., death, hospitalization). The results are normalized, aggregated by drug and adverse\n",
    "# event, and saved to a CSV file for downstream analysis. The script also supports testing via hardcoded drug inputs, outputs\n",
    "# summary statistics, and optionally plays a notification chime upon completion."
   ]
  },
  {
   "cell_type": "code",
   "execution_count": 3,
   "id": "aee854f6-8817-4503-9656-686731c66e6b",
   "metadata": {},
   "outputs": [],
   "source": [
    "# With no API key: 240 requests per minute, per IP address.  1,000 requests per day, per IP address.\n",
    "# With an API key: 240 requests per minute, per key.       120,000 requests per day, per key."
   ]
  },
  {
   "cell_type": "code",
   "execution_count": 4,
   "id": "866ad5a7-66ee-4d2a-a4bc-94bd4f1eb183",
   "metadata": {},
   "outputs": [],
   "source": [
    "import warnings\n",
    "import requests, os, time, json\n",
    "from datetime import datetime\n",
    "from IPython.display import Audio, display\n",
    "from tqdm import tqdm\n",
    "import pandas as pd\n",
    "pd.options.display.float_format = '{:.2f}'.format\n",
    "pd.options.display.max_columns = 200"
   ]
  },
  {
   "cell_type": "code",
   "execution_count": 5,
   "id": "54045b10-e084-478e-9939-7786cc1f0763",
   "metadata": {},
   "outputs": [
    {
     "name": "stdout",
     "output_type": "stream",
     "text": [
      "May 28, 2025 22:15:59\n"
     ]
    }
   ],
   "source": [
    "start = time.time()   # Start timer\n",
    "print(datetime.now().strftime(\"%B %d, %Y %H:%M:%S\"))"
   ]
  },
  {
   "cell_type": "code",
   "execution_count": null,
   "id": "760caa86-9995-4908-a8a3-ed9a2bf2d6fa",
   "metadata": {},
   "outputs": [],
   "source": []
  },
  {
   "cell_type": "code",
   "execution_count": 6,
   "id": "a92af7dd-c304-484a-ac4e-86195ea627a8",
   "metadata": {},
   "outputs": [],
   "source": [
    "api_fda_url   = \"https://api.fda.gov/drug/event.json\"\n",
    "total_records = 50000\n",
    "batch_size    = 100"
   ]
  },
  {
   "cell_type": "code",
   "execution_count": 7,
   "id": "811220ac-cd23-4cfc-836f-0722d8ca021b",
   "metadata": {},
   "outputs": [],
   "source": [
    "input_drug_list_file_path  = \"./data/drugs_of_interest.txt\"\n",
    "drug_dict_file_path        = \"./data/drug_dictionary.csv\"\n",
    "#         .        .         .         .        .         .         .        .         .         .        .         .         .        .         .\n",
    "output_drug_list_file_path = \"./data/drugs_of_interest_extended.txt\"\n",
    "aes_output_file            = \"./data/AEs_drugs_of_interest.csv\"\n",
    "#aes_output_file            = \"./data/AEs_drugs_of_interest.csv\""
   ]
  },
  {
   "cell_type": "code",
   "execution_count": 8,
   "id": "663b38d9-927a-4ab8-834b-b4f5b550bb4b",
   "metadata": {},
   "outputs": [],
   "source": [
    "def load_api_key(json_path=\"./data/fda_api_key.json\"):\n",
    "    with open(json_path) as f:\n",
    "        data = json.load(f)\n",
    "    return data[\"api_key\"]\n",
    "api_key = load_api_key()    "
   ]
  },
  {
   "cell_type": "code",
   "execution_count": 9,
   "id": "5718c545-9012-4634-9bff-6bb3f87b0da8",
   "metadata": {},
   "outputs": [
    {
     "name": "stdout",
     "output_type": "stream",
     "text": [
      "['Fluorouracil']\n"
     ]
    }
   ],
   "source": [
    "with open(input_drug_list_file_path, 'r') as file:                      # Read drugs of interest from text file\n",
    "    drugs_of_interest = [line.strip() for line in file.readlines()]\n",
    "#drugs_of_interest = ['Fluorouracil', 'Exemestane', 'Tamoxifen'] Just for testing\n",
    "print(drugs_of_interest)\n",
    "#         .        .         .         .        .         .         .        .         .         .        .         .         .        .         .\n",
    "nested_list = []    # Load dictionary and create nested list\n",
    "dictionary_df = pd.read_csv(drug_dict_file_path, sep='\\t')\n",
    "for index, row in dictionary_df.iterrows():\n",
    "    drug_name = row['Drug_Name'].strip().replace('\\xa0', \"\")\n",
    "    other_names = []\n",
    "    if pd.notna(row['Other_Drug_Names']):\n",
    "        other_names = [name.strip().replace('\\xa0', \"\") for name in row['Other_Drug_Names'].split(', ')]\n",
    "    nested_list.append([drug_name] + other_names)\n",
    "#         .        .         .         .        .         .         .        .         .         .        .         .         .        .         .\n",
    "drugs_of_interest_extended = []    # Create a list to store all matched terms (flattened)\n",
    "for drug in drugs_of_interest:     # Search for Drugs of Interest in each sublist and add all terms to matched_terms\n",
    "    for sublist in nested_list:\n",
    "        if drug in sublist:        # Adds the terms once if the drug is found\n",
    "            drugs_of_interest_extended.extend(sublist)\n",
    "            break\n",
    "drugs_of_interest_extended = sorted(list(set(drugs_of_interest_extended)))"
   ]
  },
  {
   "cell_type": "code",
   "execution_count": 10,
   "id": "87477454-ce8d-4b27-82a3-be4fd60827c6",
   "metadata": {},
   "outputs": [
    {
     "name": "stdout",
     "output_type": "stream",
     "text": [
      "['fluorouracil', 'tamoxifen']\n"
     ]
    }
   ],
   "source": [
    "try:\n",
    "    aes_df = pd.read_csv(aes_output_file)    # Replace with your actual file path\n",
    "    drugs_to_remove = aes_df[\"Drug_Name\"].dropna().unique().tolist()\n",
    "    print(drugs_to_remove)\n",
    "except FileNotFoundError:\n",
    "    drugs_to_remove = []                     # File doesn't exist — set an empty list\n",
    "#         .        .         .         .        .         .         .        .         .         .        .         .         .        .         .\n",
    "nested_list = []    # Load dictionary and create nested list\n",
    "dictionary_df = pd.read_csv(drug_dict_file_path, sep='\\t')\n",
    "for index, row in dictionary_df.iterrows():\n",
    "    drug_name = row['Drug_Name'].strip().replace('\\xa0', \"\")\n",
    "    other_names = []\n",
    "    if pd.notna(row['Other_Drug_Names']):\n",
    "        other_names = [name.strip().replace('\\xa0', \"\") for name in row['Other_Drug_Names'].split(', ')]\n",
    "    nested_list.append([drug_name] + other_names)\n",
    "#         .        .         .         .        .         .         .        .         .         .        .         .         .        .         .    \n",
    "drugs_to_remove_extended = []      # Create a list to store all matched terms (flattened)\n",
    "for drug in drugs_to_remove:       # Search for Drugs of Interest in each sublist and add all terms to matched_terms\n",
    "    for sublist in nested_list:\n",
    "        if drug in sublist:        # Adds the terms once if the drug is found\n",
    "            drugs_to_remove_extended.extend(sublist)\n",
    "            break\n",
    "drugs_to_remove_extended = sorted(list(set(drugs_to_remove_extended)))"
   ]
  },
  {
   "cell_type": "code",
   "execution_count": 11,
   "id": "e783abc5-1e90-40b2-81a3-6cce1a941a57",
   "metadata": {},
   "outputs": [],
   "source": [
    "filtered_list = [drug for drug in drugs_of_interest_extended if drug not in drugs_to_remove_extended]\n",
    "#filtered_list = sorted(list(set(filtered_list)))"
   ]
  },
  {
   "cell_type": "code",
   "execution_count": 12,
   "id": "421f914d-76d3-4981-b502-d1d471e12b7e",
   "metadata": {},
   "outputs": [],
   "source": [
    "#drugs_of_interest_extended = ['5-FU', '5-Fu', 'S-fu', 'Fluorouracil', '5-fluorouracil']\n",
    "drugs_of_interest_extended = ['Fluorouracil']"
   ]
  },
  {
   "cell_type": "code",
   "execution_count": 13,
   "id": "95eab6d2-c1da-44c5-9208-1c1f187c6ce8",
   "metadata": {},
   "outputs": [],
   "source": [
    "word_list1  =  \", \".join(sorted(drugs_of_interest));            len_list1 = len(drugs_of_interest)\n",
    "word_list2  =  \", \".join(sorted(drugs_of_interest_extended));   len_list2 = len(drugs_of_interest_extended)\n",
    "word_list3  =  \", \".join(sorted(drugs_to_remove));              len_list3 = len(drugs_to_remove)\n",
    "word_list4  =  \", \".join(sorted(drugs_to_remove_extended));     len_list4 = len(drugs_to_remove_extended)\n",
    "word_list5  =  \", \".join(sorted(filtered_list));                len_list5 = len(filtered_list)"
   ]
  },
  {
   "cell_type": "code",
   "execution_count": null,
   "id": "327e1798-86aa-4b81-9fef-23c13310fab6",
   "metadata": {},
   "outputs": [],
   "source": []
  },
  {
   "cell_type": "code",
   "execution_count": 14,
   "id": "6c4e486d-5c74-40b7-aae3-a3a870f61beb",
   "metadata": {},
   "outputs": [
    {
     "name": "stdout",
     "output_type": "stream",
     "text": [
      "\n",
      "\u001b[31m   1  \u001b[0m \u001b[33m Original Drugs of Interest: \n",
      "\u001b[0mFluorouracil \n",
      "\n",
      "\u001b[31m   1  \u001b[0m \u001b[33m Extended Drugs of Interest: \n",
      "\u001b[0mFluorouracil\n",
      "\n",
      "\u001b[31m   2  \u001b[0m \u001b[33m Drugs in the Output File: \n",
      "\u001b[0mfluorouracil, tamoxifen\n",
      "\n",
      "\u001b[31m   15  \u001b[0m \u001b[33m Drugs in the Output File Extended: \n",
      "\u001b[0m5 FU, 5 Fluorouracil, 5-FU, 5-Fluorouracil, Actikerall, Efudex, Fluoroplex, Fluorouracil, ICI 47699, ICI-47699, Soltamox, Tamoxifen, Tolak, fluorouracil, tamoxifen\n",
      "\n",
      "\u001b[31m   0  \u001b[0m \u001b[33m Filtered List: \n",
      "\u001b[0m\n",
      "\n"
     ]
    }
   ],
   "source": [
    "print(f'\\n\\033[31m   {len_list1}  \\033[0m \\033[33m Original Drugs of Interest: \\n\\033[0m{word_list1} \\n')  \n",
    "print(f'\\033[31m   {len_list2}  \\033[0m \\033[33m Extended Drugs of Interest: \\n\\033[0m{word_list2}\\n') \n",
    "print(f'\\033[31m   {len_list3}  \\033[0m \\033[33m Drugs in the Output File: \\n\\033[0m{word_list3}\\n')\n",
    "print(f'\\033[31m   {len_list4}  \\033[0m \\033[33m Drugs in the Output File Extended: \\n\\033[0m{word_list4}\\n')\n",
    "print(f'\\033[31m   {len_list5}  \\033[0m \\033[33m Filtered List: \\n\\033[0m{word_list5}\\n')"
   ]
  },
  {
   "cell_type": "code",
   "execution_count": 15,
   "id": "05ca5e55-234d-4c1b-9b38-9e9df7c32786",
   "metadata": {},
   "outputs": [],
   "source": [
    "with open(output_drug_list_file_path, 'w') as file:      # Write the matched terms to the output text file\n",
    "    for term in filtered_list:\n",
    "        file.write(f\"{term}\\n\")"
   ]
  },
  {
   "cell_type": "code",
   "execution_count": 16,
   "id": "6ffbf0a9-3122-44df-8008-49c65df717c6",
   "metadata": {},
   "outputs": [],
   "source": [
    "manual_cache = {}\n",
    "def dict_to_key(d):\n",
    "    return \"&\".join(f\"{k}={v}\" for k, v in sorted(d.items()))"
   ]
  },
  {
   "cell_type": "code",
   "execution_count": 17,
   "id": "90808c55-46f8-4ebd-bcc9-49e4525c55e4",
   "metadata": {},
   "outputs": [],
   "source": [
    "def safe_request(api_fda_url, params, retries=3, delay=1, backoff=2):\n",
    "    key = f\"{api_fda_url}?{dict_to_key(params)}\"\n",
    "#         .        .         .         .        .         .         .        .         .         .        .         .         .        .         .\n",
    "    if key in manual_cache:\n",
    "        return manual_cache[key]  # Return cached response if available\n",
    "#         .        .         .         .        .         .         .        .         .         .        .         .         .        .         .\n",
    "    for i in range(retries):\n",
    "        try:\n",
    "            response = requests.get(api_fda_url, params=params, timeout=30)\n",
    "\n",
    "            if response.status_code == 200:\n",
    "                manual_cache[key] = response  # Cache successful response\n",
    "                return response\n",
    "\n",
    "            elif response.status_code in [400, 404, 429]:\n",
    "                warnings.warn(f\"Request failed with status {response.status_code}: {response.reason}\")\n",
    "                if response.status_code == 429:\n",
    "                    time.sleep(delay * (backoff ** i))  # Retry after delay for rate limiting\n",
    "                else:\n",
    "                    break  # Do not retry on 400 or 404\n",
    "#         .        .         .         .        .         .         .        .         .         .        .         .         .        .         .\n",
    "        except requests.exceptions.ReadTimeout:\n",
    "            time.sleep(delay * (backoff ** i))  # Exponential backoff on timeout\n",
    "        except requests.exceptions.RequestException as e:\n",
    "            warnings.warn(f\"Request failed due to: {e}\")\n",
    "            break  # Do not retry for other errors\n",
    "    return None  # Return None if all retries fail"
   ]
  },
  {
   "cell_type": "code",
   "execution_count": 18,
   "id": "f17a4fe2-aa58-4fd9-8b76-2b5e2e9991c2",
   "metadata": {},
   "outputs": [],
   "source": [
    "filtered_list = ['Fluorouracil', 'Soltamox'] # Just for testing\n",
    "filtered_list = ['Soltamox'] # Just for testing"
   ]
  },
  {
   "cell_type": "code",
   "execution_count": 19,
   "id": "5f28a2a7-41e2-4bef-94cd-8f11a11831f1",
   "metadata": {},
   "outputs": [
    {
     "name": "stderr",
     "output_type": "stream",
     "text": [
      "  0%|          | 0/1 [00:00<?, ?it/s]"
     ]
    },
    {
     "name": "stdout",
     "output_type": "stream",
     "text": [
      "Trying FDA API with search Soltamox and skip 0\n"
     ]
    },
    {
     "name": "stderr",
     "output_type": "stream",
     "text": [
      "                                             "
     ]
    },
    {
     "name": "stdout",
     "output_type": "stream",
     "text": [
      "Reached end of data for Soltamox.\n",
      "Total records retrieved for drug 'Soltamox': 360\n"
     ]
    },
    {
     "name": "stderr",
     "output_type": "stream",
     "text": []
    }
   ],
   "source": [
    "all_records = []           # Query FAERS API for each drug synonym\n",
    "for drug_name in tqdm(filtered_list, leave=False):\n",
    "    records_this_drug = 0  # Counter for current drug records\n",
    "\n",
    "    # Request metadata to estimate total number of records for current drug\n",
    "    meta_params = {\"search\": f\"patient.drug.medicinalproduct:{drug_name}\", \"api_key\": api_key, \"limit\":1}                                                                       \n",
    "\n",
    "    meta_response = safe_request(api_fda_url, meta_params)                         # Make metadata request\n",
    "    if not meta_response:\n",
    "        warnings.warn(f\"Metadata request failed for {drug_name}. Skipping.\")       # Warn and skip if failed\n",
    "        continue\n",
    "    try:\n",
    "        total_records = meta_response.json()[\"meta\"][\"results\"][\"total\"]           # Extract total number of records\n",
    "    except (KeyError, TypeError) as e:\n",
    "        warnings.warn(f\"Metadata parsing failed for {drug_name}: {e}. Skipping.\")  # Warn and skip if missing\n",
    "        continue\n",
    "\n",
    "    consecutive_failures = 0  # Track number of failed batches in a row\n",
    "\n",
    "    for skip in range(0, total_records, batch_size):\n",
    "        params = {\"search\": f\"patient.drug.medicinalproduct:{drug_name}\",  # Drug-specific search\n",
    "                  \"api_key\": api_key, \"limit\": batch_size, \"skip\": skip}   # API key / Batch size for pagination / Pagination offset\n",
    "        \n",
    "        if (skip // batch_size) % 100 == 0:\n",
    "            print(f\"Trying FDA API with search {drug_name} and skip {params['skip']}\")  # Avoid printing API key\n",
    "        response = safe_request(api_fda_url, params)\n",
    "        if not response:\n",
    "            consecutive_failures += 1\n",
    "            if consecutive_failures >= 2:  # Adjust threshold for stopping if multiple failures\n",
    "                print(f\"Too many failed batches. Assuming end of data for {drug_name}.\")\n",
    "                break\n",
    "            continue                                                       # Skip failed attempt                                       \n",
    "        consecutive_failures = 0  # Reset if success\n",
    "\n",
    "        results = response.json().get(\"results\", [])\n",
    "        if not results:\n",
    "            print(f\"No data returned for batch {skip}.\")\n",
    "            break                                                          # Stop if no results returned\n",
    "        for result in results:\n",
    "            seriousness = {\n",
    "                \"Death\":           int(result.get(\"seriousnessdeath\",           0)),\n",
    "                \"Hospitalization\": int(result.get(\"seriousnesshospitalization\", 0)),\n",
    "                \"LifeThreatening\": int(result.get(\"seriousnesslifethreatening\", 0)),\n",
    "                \"Other\":           int(result.get(\"seriousnessother\",           0))}\n",
    "            for reaction in result.get(\"patient\", {}).get(\"reaction\", []):\n",
    "                record = {\"Drug_Name\": drug_name, \"Adverse_Event\": reaction.get(\"reactionmeddrapt\", \"Unknown\"), **seriousness}\n",
    "                all_records.append(record)\n",
    "                records_this_drug += 1                                      # Count record for this drug\n",
    "        if len(results) < batch_size:\n",
    "            print(f\"Reached end of data for {drug_name}.\")\n",
    "            break                                                           # Stop pagination if last batch has fewer records than batch size\n",
    "    print(f\"Total records retrieved for drug '{drug_name}': {records_this_drug}\")"
   ]
  },
  {
   "cell_type": "code",
   "execution_count": null,
   "id": "784c1322-e631-4f71-8d1b-5e6a277da393",
   "metadata": {},
   "outputs": [],
   "source": []
  },
  {
   "cell_type": "code",
   "execution_count": 20,
   "id": "aac9edd9-0ebf-4ce3-843b-9e7096f87872",
   "metadata": {},
   "outputs": [
    {
     "name": "stdout",
     "output_type": "stream",
     "text": [
      "\n",
      "Number of records: 360\n"
     ]
    }
   ],
   "source": [
    "print(f\"\\nNumber of records: {len(all_records)}\")\n",
    "df = pd.DataFrame(all_records)\n",
    "df['Drug_Name']     = df['Drug_Name'].str.title()\n",
    "df['Adverse_Event'] = df['Adverse_Event'].str.title()"
   ]
  },
  {
   "cell_type": "code",
   "execution_count": 21,
   "id": "6a8c8133-d92a-4982-babd-ae5121bf31ae",
   "metadata": {},
   "outputs": [],
   "source": [
    "nested_list = []                                                         # Normalize names\n",
    "for index, row in dictionary_df.iterrows():\n",
    "    drug_name = row['Drug_Name'].strip().replace('\\xa0', \"\").lower()     # Normalize to lowercase\n",
    "    if pd.notna(row['Other_Drug_Names']):\n",
    "        other_names = [name.strip().replace('\\xa0', \"\").lower() for name in row['Other_Drug_Names'].split(', ')]\n",
    "    nested_list.append([drug_name] + other_names)"
   ]
  },
  {
   "cell_type": "code",
   "execution_count": 22,
   "id": "ce43e5d2-68ff-489c-be36-190c95cb17b4",
   "metadata": {},
   "outputs": [],
   "source": [
    "alias_to_primary = {}                           # Create a dictionary to map aliases to their primary drug names\n",
    "for sublist in nested_list:                    \n",
    "    primary = sublist[0]                        # The first item is the primary drug name\n",
    "    for alias in sublist:\n",
    "        alias_to_primary[alias] = primary"
   ]
  },
  {
   "cell_type": "code",
   "execution_count": 23,
   "id": "aad49f4f-970f-4534-9bb8-86529beba682",
   "metadata": {},
   "outputs": [
    {
     "name": "stdout",
     "output_type": "stream",
     "text": [
      "Unique drug names after alias replacement: {'tamoxifen'}\n"
     ]
    }
   ],
   "source": [
    "df['Drug_Name'] = df['Drug_Name'].str.lower()                                                # Normalize to lowercase before mapping\n",
    "df['Drug_Name'] = df['Drug_Name'].apply(lambda x: alias_to_primary.get(x, x))                # Update Drug_Name column using mapping\n",
    "drug_names_list = df['Drug_Name'].unique().tolist(); list2_set = set(drug_names_list)\n",
    "print(f'Unique drug names after alias replacement: {list2_set}')"
   ]
  },
  {
   "cell_type": "code",
   "execution_count": 24,
   "id": "8c5e7871-78f2-4ea7-89f7-11e9d513336e",
   "metadata": {},
   "outputs": [],
   "source": [
    "diff = [item for item in drugs_of_interest_extended if item not in list2_set]\n",
    "# print(len(drug_names)); print('\\033[32m', sorted(drug_names), '\\033[0m')"
   ]
  },
  {
   "cell_type": "code",
   "execution_count": 25,
   "id": "7e1ef0aa-cf58-489a-bc38-1999f55b3977",
   "metadata": {},
   "outputs": [
    {
     "name": "stdout",
     "output_type": "stream",
     "text": [
      "\n",
      "\u001b[32m Fluorouracil \u001b[0m\n",
      "\n",
      "\u001b[32m tamoxifen \u001b[0m\n",
      "\n",
      "\u001b[32m Fluorouracil \u001b[0m\n",
      "\n",
      "Number of different AES found: \u001b[31m129\u001b[0m\n",
      "\n",
      "\u001b[32m Abdominal Pain Upper, Ageusia, Agitation, Agranulocytosis, Alanine Aminotransferase Increased, Alopecia, Anxiety, Arthralgia, Ascites, Aspartate Aminotransferase Increased \u001b[0m\n",
      "\n"
     ]
    }
   ],
   "source": [
    "names_wrd_list1  = \", \".join(sorted(drugs_of_interest_extended)); print('\\n\\033[32m', names_wrd_list1, '\\033[0m')\n",
    "names_wrd_list2  = \", \".join(sorted(drug_names_list));            print('\\n\\033[32m', names_wrd_list2, '\\033[0m')\n",
    "diff_wrd_list    = \", \".join(sorted(diff));                       print('\\n\\033[32m', diff_wrd_list,   '\\033[0m')\n",
    "#         .        .         .         .        .         .         .        .         .         .        .         .         .        .         .\n",
    "adverse_event_list = df['Adverse_Event'].unique().tolist()\n",
    "adverse_event_list = [ae.strip() for ae in adverse_event_list if ae and ae.strip()]\n",
    "top10_aes          = sorted(adverse_event_list)[:10]\n",
    "aes_wrd_list       = \", \".join(top10_aes)\n",
    "print(f'\\nNumber of different AES found: \\033[31m{len(adverse_event_list)}\\033[0m')\n",
    "print('\\n\\033[32m', aes_wrd_list, '\\033[0m\\n')"
   ]
  },
  {
   "cell_type": "code",
   "execution_count": 26,
   "id": "42becb22-4501-4e76-8734-d6e470fcc263",
   "metadata": {},
   "outputs": [],
   "source": [
    "with open(\"./data/adverse_event_list.txt\", \"w\") as f:\n",
    "    for item in adverse_event_list:\n",
    "        f.write(f\"{item}\\n\")"
   ]
  },
  {
   "cell_type": "code",
   "execution_count": 27,
   "id": "347727a6-4b38-4436-b194-dd2566be59dd",
   "metadata": {},
   "outputs": [
    {
     "name": "stdout",
     "output_type": "stream",
     "text": [
      "\n",
      "Number of rows in aggregated table: 129\n"
     ]
    }
   ],
   "source": [
    "agg = df.groupby([\"Drug_Name\", \"Adverse_Event\"]).sum(numeric_only=True)   # Aggregate\n",
    "agg[\"Total\"] = agg.sum(axis=1)\n",
    "agg_reset = agg.reset_index().sort_values(by=\"Total\", ascending=False)\n",
    "print(f\"\\nNumber of rows in aggregated table: {len(agg_reset)}\")"
   ]
  },
  {
   "cell_type": "code",
   "execution_count": 28,
   "id": "faa06ac1-1193-4c02-b6a7-65a77bd40e17",
   "metadata": {},
   "outputs": [
    {
     "name": "stdout",
     "output_type": "stream",
     "text": [
      "129\n"
     ]
    },
    {
     "data": {
      "text/html": [
       "<div>\n",
       "<style scoped>\n",
       "    .dataframe tbody tr th:only-of-type {\n",
       "        vertical-align: middle;\n",
       "    }\n",
       "\n",
       "    .dataframe tbody tr th {\n",
       "        vertical-align: top;\n",
       "    }\n",
       "\n",
       "    .dataframe thead th {\n",
       "        text-align: right;\n",
       "    }\n",
       "</style>\n",
       "<table border=\"1\" class=\"dataframe\">\n",
       "  <thead>\n",
       "    <tr style=\"text-align: right;\">\n",
       "      <th></th>\n",
       "      <th>Drug_Name</th>\n",
       "      <th>Adverse_Event</th>\n",
       "      <th>Death</th>\n",
       "      <th>Hospitalization</th>\n",
       "      <th>LifeThreatening</th>\n",
       "      <th>Other</th>\n",
       "      <th>Total</th>\n",
       "      <th>%Death</th>\n",
       "      <th>%Hospitalization</th>\n",
       "      <th>%LifeThreatening</th>\n",
       "      <th>%Other</th>\n",
       "      <th>%Total</th>\n",
       "    </tr>\n",
       "  </thead>\n",
       "  <tbody>\n",
       "    <tr>\n",
       "      <th>49</th>\n",
       "      <td>tamoxifen</td>\n",
       "      <td>Fatigue</td>\n",
       "      <td>11</td>\n",
       "      <td>12</td>\n",
       "      <td>15</td>\n",
       "      <td>11</td>\n",
       "      <td>49</td>\n",
       "      <td>2.84</td>\n",
       "      <td>3.03</td>\n",
       "      <td>2.39</td>\n",
       "      <td>3.01</td>\n",
       "      <td>2.76</td>\n",
       "    </tr>\n",
       "    <tr>\n",
       "      <th>12</th>\n",
       "      <td>tamoxifen</td>\n",
       "      <td>Balance Disorder</td>\n",
       "      <td>10</td>\n",
       "      <td>10</td>\n",
       "      <td>16</td>\n",
       "      <td>9</td>\n",
       "      <td>45</td>\n",
       "      <td>2.58</td>\n",
       "      <td>2.53</td>\n",
       "      <td>2.55</td>\n",
       "      <td>2.46</td>\n",
       "      <td>2.53</td>\n",
       "    </tr>\n",
       "    <tr>\n",
       "      <th>126</th>\n",
       "      <td>tamoxifen</td>\n",
       "      <td>Vomiting</td>\n",
       "      <td>8</td>\n",
       "      <td>10</td>\n",
       "      <td>14</td>\n",
       "      <td>10</td>\n",
       "      <td>42</td>\n",
       "      <td>2.06</td>\n",
       "      <td>2.53</td>\n",
       "      <td>2.23</td>\n",
       "      <td>2.73</td>\n",
       "      <td>2.36</td>\n",
       "    </tr>\n",
       "    <tr>\n",
       "      <th>18</th>\n",
       "      <td>tamoxifen</td>\n",
       "      <td>Blood Phosphorus Increased</td>\n",
       "      <td>7</td>\n",
       "      <td>7</td>\n",
       "      <td>14</td>\n",
       "      <td>7</td>\n",
       "      <td>35</td>\n",
       "      <td>1.80</td>\n",
       "      <td>1.77</td>\n",
       "      <td>2.23</td>\n",
       "      <td>1.91</td>\n",
       "      <td>1.97</td>\n",
       "    </tr>\n",
       "    <tr>\n",
       "      <th>10</th>\n",
       "      <td>tamoxifen</td>\n",
       "      <td>Asthenia</td>\n",
       "      <td>8</td>\n",
       "      <td>8</td>\n",
       "      <td>12</td>\n",
       "      <td>7</td>\n",
       "      <td>35</td>\n",
       "      <td>2.06</td>\n",
       "      <td>2.02</td>\n",
       "      <td>1.91</td>\n",
       "      <td>1.91</td>\n",
       "      <td>1.97</td>\n",
       "    </tr>\n",
       "  </tbody>\n",
       "</table>\n",
       "</div>"
      ],
      "text/plain": [
       "     Drug_Name               Adverse_Event  Death  Hospitalization  \\\n",
       "49   tamoxifen                     Fatigue     11               12   \n",
       "12   tamoxifen            Balance Disorder     10               10   \n",
       "126  tamoxifen                    Vomiting      8               10   \n",
       "18   tamoxifen  Blood Phosphorus Increased      7                7   \n",
       "10   tamoxifen                    Asthenia      8                8   \n",
       "\n",
       "     LifeThreatening  Other  Total  %Death  %Hospitalization  \\\n",
       "49                15     11     49    2.84              3.03   \n",
       "12                16      9     45    2.58              2.53   \n",
       "126               14     10     42    2.06              2.53   \n",
       "18                14      7     35    1.80              1.77   \n",
       "10                12      7     35    2.06              2.02   \n",
       "\n",
       "     %LifeThreatening  %Other  %Total  \n",
       "49               2.39    3.01    2.76  \n",
       "12               2.55    2.46    2.53  \n",
       "126              2.23    2.73    2.36  \n",
       "18               2.23    1.91    1.97  \n",
       "10               1.91    1.91    1.97  "
      ]
     },
     "execution_count": 28,
     "metadata": {},
     "output_type": "execute_result"
    }
   ],
   "source": [
    "# Normalizes Death, Hospitalization, and LifeThreatening columns within each drug, ensuring their values sum to 100%.\n",
    "# It groups the data by drug, calculates the total for each seriousness column, and then divides each value by its\n",
    "# respective total, multiplying by 100 to get percentages. Drops the temporary total column and fills any NaN\n",
    "# Step 1: Group by 'Drug_Name' and sum each seriousness column\n",
    "agg_reset['Total_Seriousness'] = agg_reset.groupby('Drug_Name')[['Death', 'Hospitalization', 'LifeThreatening']].transform('sum').sum(axis=1)\n",
    "# Step 2: Normalize each column by dividing by the sum of that column for each drug\n",
    "for col in ['Death', 'Hospitalization', 'LifeThreatening', 'Other', 'Total']:\n",
    "    agg_reset[f'%{col}'] = agg_reset[col] * 100 / agg_reset.groupby('Drug_Name')[col].transform('sum')\n",
    "# Step 3: Drop the temporary 'Total_Seriousness' column\n",
    "agg_reset = agg_reset.drop(columns=['Total_Seriousness'])\n",
    "# Fill NaN values (if any)\n",
    "agg_reset = agg_reset.fillna(0)\n",
    "print(len(agg_reset)); agg_reset.head(5)"
   ]
  },
  {
   "cell_type": "code",
   "execution_count": 29,
   "id": "ae764318-d1f5-4e1e-a57a-64899a8d7291",
   "metadata": {},
   "outputs": [
    {
     "name": "stdout",
     "output_type": "stream",
     "text": [
      "100\n"
     ]
    },
    {
     "data": {
      "text/html": [
       "<div>\n",
       "<style scoped>\n",
       "    .dataframe tbody tr th:only-of-type {\n",
       "        vertical-align: middle;\n",
       "    }\n",
       "\n",
       "    .dataframe tbody tr th {\n",
       "        vertical-align: top;\n",
       "    }\n",
       "\n",
       "    .dataframe thead th {\n",
       "        text-align: right;\n",
       "    }\n",
       "</style>\n",
       "<table border=\"1\" class=\"dataframe\">\n",
       "  <thead>\n",
       "    <tr style=\"text-align: right;\">\n",
       "      <th></th>\n",
       "      <th>Drug_Name</th>\n",
       "      <th>Adverse_Event</th>\n",
       "      <th>Death</th>\n",
       "      <th>Hospitalization</th>\n",
       "      <th>LifeThreatening</th>\n",
       "      <th>Other</th>\n",
       "      <th>Total</th>\n",
       "      <th>%Death</th>\n",
       "      <th>%Hospitalization</th>\n",
       "      <th>%LifeThreatening</th>\n",
       "      <th>%Other</th>\n",
       "      <th>%Total</th>\n",
       "    </tr>\n",
       "  </thead>\n",
       "  <tbody>\n",
       "    <tr>\n",
       "      <th>0</th>\n",
       "      <td>tamoxifen</td>\n",
       "      <td>Fatigue</td>\n",
       "      <td>11</td>\n",
       "      <td>12</td>\n",
       "      <td>15</td>\n",
       "      <td>11</td>\n",
       "      <td>49</td>\n",
       "      <td>2.84</td>\n",
       "      <td>3.03</td>\n",
       "      <td>2.39</td>\n",
       "      <td>3.01</td>\n",
       "      <td>2.76</td>\n",
       "    </tr>\n",
       "    <tr>\n",
       "      <th>1</th>\n",
       "      <td>tamoxifen</td>\n",
       "      <td>Balance Disorder</td>\n",
       "      <td>10</td>\n",
       "      <td>10</td>\n",
       "      <td>16</td>\n",
       "      <td>9</td>\n",
       "      <td>45</td>\n",
       "      <td>2.58</td>\n",
       "      <td>2.53</td>\n",
       "      <td>2.55</td>\n",
       "      <td>2.46</td>\n",
       "      <td>2.53</td>\n",
       "    </tr>\n",
       "    <tr>\n",
       "      <th>2</th>\n",
       "      <td>tamoxifen</td>\n",
       "      <td>Vomiting</td>\n",
       "      <td>8</td>\n",
       "      <td>10</td>\n",
       "      <td>14</td>\n",
       "      <td>10</td>\n",
       "      <td>42</td>\n",
       "      <td>2.06</td>\n",
       "      <td>2.53</td>\n",
       "      <td>2.23</td>\n",
       "      <td>2.73</td>\n",
       "      <td>2.36</td>\n",
       "    </tr>\n",
       "    <tr>\n",
       "      <th>3</th>\n",
       "      <td>tamoxifen</td>\n",
       "      <td>Blood Phosphorus Increased</td>\n",
       "      <td>7</td>\n",
       "      <td>7</td>\n",
       "      <td>14</td>\n",
       "      <td>7</td>\n",
       "      <td>35</td>\n",
       "      <td>1.80</td>\n",
       "      <td>1.77</td>\n",
       "      <td>2.23</td>\n",
       "      <td>1.91</td>\n",
       "      <td>1.97</td>\n",
       "    </tr>\n",
       "    <tr>\n",
       "      <th>4</th>\n",
       "      <td>tamoxifen</td>\n",
       "      <td>Asthenia</td>\n",
       "      <td>8</td>\n",
       "      <td>8</td>\n",
       "      <td>12</td>\n",
       "      <td>7</td>\n",
       "      <td>35</td>\n",
       "      <td>2.06</td>\n",
       "      <td>2.02</td>\n",
       "      <td>1.91</td>\n",
       "      <td>1.91</td>\n",
       "      <td>1.97</td>\n",
       "    </tr>\n",
       "  </tbody>\n",
       "</table>\n",
       "</div>"
      ],
      "text/plain": [
       "   Drug_Name               Adverse_Event  Death  Hospitalization  \\\n",
       "0  tamoxifen                     Fatigue     11               12   \n",
       "1  tamoxifen            Balance Disorder     10               10   \n",
       "2  tamoxifen                    Vomiting      8               10   \n",
       "3  tamoxifen  Blood Phosphorus Increased      7                7   \n",
       "4  tamoxifen                    Asthenia      8                8   \n",
       "\n",
       "   LifeThreatening  Other  Total  %Death  %Hospitalization  %LifeThreatening  \\\n",
       "0               15     11     49    2.84              3.03              2.39   \n",
       "1               16      9     45    2.58              2.53              2.55   \n",
       "2               14     10     42    2.06              2.53              2.23   \n",
       "3               14      7     35    1.80              1.77              2.23   \n",
       "4               12      7     35    2.06              2.02              1.91   \n",
       "\n",
       "   %Other  %Total  \n",
       "0    3.01    2.76  \n",
       "1    2.46    2.53  \n",
       "2    2.73    2.36  \n",
       "3    1.91    1.97  \n",
       "4    1.91    1.97  "
      ]
     },
     "execution_count": 29,
     "metadata": {},
     "output_type": "execute_result"
    }
   ],
   "source": [
    "# Filter to retain only the most frequent adverse events per drug\n",
    "df_sorted = agg_reset.sort_values(['Drug_Name', 'Total'], ascending=[True, False])\n",
    "df_sorted[\"rank\"] = df_sorted.groupby(\"Drug_Name\").cumcount()\n",
    "df_commonaes = df_sorted[df_sorted[\"rank\"] < 100].drop(columns=\"rank\").reset_index(drop=True)\n",
    "print(len(df_commonaes)); df_commonaes.head(5)"
   ]
  },
  {
   "cell_type": "code",
   "execution_count": 30,
   "id": "de88f198-5a64-485e-9af4-bfeb2c0157bc",
   "metadata": {},
   "outputs": [
    {
     "name": "stdout",
     "output_type": "stream",
     "text": [
      "\u001b[33m Rows in the df:\t \u001b[31m 100 \n",
      "\u001b[33m Filtered List lenght:\t \u001b[31m 1  \u001b[0m \n",
      "\u001b[0mtamoxifen\n"
     ]
    }
   ],
   "source": [
    "drugs_commonaes_list = df_commonaes[\"Drug_Name\"].dropna().unique().tolist()\n",
    "word_list6  =  \", \".join(sorted(drugs_commonaes_list)); len_list6 = len(drugs_commonaes_list)\n",
    "print(f'\\033[33m Rows in the df:\\t \\033[31m {len(df_commonaes)} ')\n",
    "print(f'\\033[33m Filtered List lenght:\\t \\033[31m {len_list6}  \\033[0m \\n\\033[0m{word_list6}')"
   ]
  },
  {
   "cell_type": "code",
   "execution_count": 31,
   "id": "53892260-bb2a-4b30-aa43-e16ba90c8db0",
   "metadata": {},
   "outputs": [],
   "source": [
    "# Specify the columns you want to format and the number of decimals\n",
    "columns_to_format = ['%Death', '%Hospitalization', '%LifeThreatening', '%Other', '%Total']\n",
    "for column in columns_to_format:   # Reduce the number of decimals in the specified columns\n",
    "    agg_reset[column] = agg_reset[column].apply(lambda x: round(x, 2))"
   ]
  },
  {
   "cell_type": "code",
   "execution_count": 32,
   "id": "d1ed17bf-f365-4990-983d-5c2bc0c4f6a3",
   "metadata": {},
   "outputs": [
    {
     "name": "stdout",
     "output_type": "stream",
     "text": [
      "\n",
      "Updated AE data (duplicates removed) saved to: ./data/AEs_drugs_of_interest.csv\n",
      "CPU times: total: 109 ms\n",
      "Wall time: 119 ms\n"
     ]
    }
   ],
   "source": [
    "%%time\n",
    "if os.path.exists(aes_output_file):\n",
    "    existing = pd.read_csv(aes_output_file)\n",
    "    updated  = pd.concat([existing, agg_reset], ignore_index=True)\n",
    "    updated  = updated.drop_duplicates()  # Remove exact duplicate rows\n",
    "    updated.to_csv(aes_output_file, index=False)\n",
    "    print(f\"\\nUpdated AE data (duplicates removed) saved to: {aes_output_file}\")\n",
    "else:\n",
    "    agg_reset.to_csv(aes_output_file, index=False)\n",
    "    print(f\"\\nNew AE file created: {aes_output_file}\")"
   ]
  },
  {
   "cell_type": "code",
   "execution_count": 33,
   "id": "6938d15d-a990-4d16-b68a-ed84af2a5d5c",
   "metadata": {},
   "outputs": [
    {
     "data": {
      "text/html": [
       "\n",
       "                <audio  controls=\"controls\" autoplay=\"autoplay\">\n",
       "                    <source src=\"data:audio/mpeg;base64,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\" type=\"audio/mpeg\" />\n",
       "                    Your browser does not support the audio element.\n",
       "                </audio>\n",
       "              "
      ],
      "text/plain": [
       "<IPython.lib.display.Audio object>"
      ]
     },
     "metadata": {},
     "output_type": "display_data"
    }
   ],
   "source": [
    "audio_file = \"./data/clock-chime-88027.mp3\"\n",
    "if os.path.exists(audio_file):\n",
    "    display(Audio(audio_file, autoplay=True))"
   ]
  },
  {
   "cell_type": "code",
   "execution_count": 34,
   "id": "4c9410a2-7633-4971-9132-7e6b311b25d6",
   "metadata": {},
   "outputs": [
    {
     "name": "stdout",
     "output_type": "stream",
     "text": [
      "\n",
      "Script completed in: 0 min 3 sec.\n"
     ]
    }
   ],
   "source": [
    "elapsed_time = time.time() - start\n",
    "mins, secs = divmod(elapsed_time, 60)\n",
    "print(f\"\\nScript completed in: {int(mins)} min {int(secs)} sec.\")"
   ]
  },
  {
   "cell_type": "code",
   "execution_count": null,
   "id": "f1cc9bf9-b0ad-421d-9c8c-8fb5331ed629",
   "metadata": {},
   "outputs": [],
   "source": []
  },
  {
   "cell_type": "code",
   "execution_count": null,
   "id": "9328db85-9ae9-4d3a-9216-bc158f17f95f",
   "metadata": {},
   "outputs": [],
   "source": []
  },
  {
   "cell_type": "code",
   "execution_count": null,
   "id": "567961ed-56ec-4aab-8e5c-dec0ca58e95a",
   "metadata": {},
   "outputs": [],
   "source": []
  }
 ],
 "metadata": {
  "kernelspec": {
   "display_name": "Python 3 (ipykernel)",
   "language": "python",
   "name": "python3"
  },
  "language_info": {
   "codemirror_mode": {
    "name": "ipython",
    "version": 3
   },
   "file_extension": ".py",
   "mimetype": "text/x-python",
   "name": "python",
   "nbconvert_exporter": "python",
   "pygments_lexer": "ipython3",
   "version": "3.12.3"
  }
 },
 "nbformat": 4,
 "nbformat_minor": 5
}

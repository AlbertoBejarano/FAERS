{
 "cells": [
  {
   "cell_type": "code",
   "execution_count": 1,
   "id": "2d7c0497-7692-4e2a-9f80-0d48de963098",
   "metadata": {
    "editable": true,
    "slideshow": {
     "slide_type": ""
    },
    "tags": []
   },
   "outputs": [],
   "source": [
    "# Alberto Bejarano (2025)\n",
    "# 00_openFDA_UMAP_v01\n",
    "# pip install nbqa flake8\n",
    "# nbqa flake8 openFDA_UMAP_v06.ipynb --select=F401"
   ]
  },
  {
   "cell_type": "code",
   "execution_count": 2,
   "id": "0ddc9dfb-2ed9-4d3e-8a4b-e271c82a12bd",
   "metadata": {},
   "outputs": [],
   "source": [
    "# These Jupyter notebooks process FDA adverse event data for a set of drugs. It first retrieves data using an API and extracts relevant details about the types of adverse events\n",
    "# for each drug. The data is then aggregated, grouped by drug and event, and pivoted into a table format for further analysis. The notebook applies data scaling and dimensionality\n",
    "# reduction techniques, such as Principal Component Analysis (PCA), to standardize and reduce the dimensionality of the dataset. It uses clustering (Leiden algorithm) to group \n",
    "# similar data points and explores the relationships between the drugs and their adverse events. Finally, the notebook visualizes the results using UMAP, providing insights into \n",
    "# the patterns and associations between the drugs and the severity of their associated adverse events."
   ]
  },
  {
   "cell_type": "code",
   "execution_count": 3,
   "id": "e3df6dff-e5e4-4e7d-8da0-a7aaabe38171",
   "metadata": {},
   "outputs": [],
   "source": [
    "# 00_openFDA_UMAP_v01\n",
    "# This script processes FDA adverse event data for a selected set of cancer drugs by retrieving records from the openFDA API. It fetches reports per drug in batches, extracting information\n",
    "# on adverse events and associated seriousness flags (e.g., death, hospitalization). The data is cleaned and standardized by capitalizing drug and event names, and a full list of unique\n",
    "# adverse events is saved to a text file. The script then aggregates and summarizes the data, computing total counts and percentages of each seriousness category per drug-event pair.\n",
    "# This normalized dataset allows for comparison of adverse event profiles across drugs. Finally, the processed data is saved as a CSV file."
   ]
  },
  {
   "cell_type": "code",
   "execution_count": 4,
   "id": "d0eee812-8243-41b4-be70-11db39558186",
   "metadata": {},
   "outputs": [],
   "source": [
    "#import os   # Record the name of the active Conda environment\n",
    "#env_name = os.getenv('CONDA_DEFAULT_ENV'); print(f\"Active Conda environment: {env_name}\")\n",
    "#!conda env export > {env_name}.yml"
   ]
  },
  {
   "cell_type": "code",
   "execution_count": 5,
   "id": "fe7077e0-05f4-42fc-80fe-899c66f6a7a7",
   "metadata": {},
   "outputs": [
    {
     "name": "stdout",
     "output_type": "stream",
     "text": [
      "April 21, 2025 19:05:29\n"
     ]
    }
   ],
   "source": [
    "import time; start = time.time()\n",
    "from datetime import datetime; print(datetime.now().strftime(\"%B %d, %Y %H:%M:%S\"))"
   ]
  },
  {
   "cell_type": "code",
   "execution_count": 6,
   "id": "e1459208-f0b1-4fb3-9c95-a2bbffaf455e",
   "metadata": {},
   "outputs": [],
   "source": [
    "import warnings\n",
    "from anndata._core.aligned_df import ImplicitModificationWarning\n",
    "warnings.simplefilter(\"ignore\", ImplicitModificationWarning)"
   ]
  },
  {
   "cell_type": "code",
   "execution_count": 7,
   "id": "0c082f7c-3ceb-47e0-b643-9c04d5d45cea",
   "metadata": {},
   "outputs": [],
   "source": [
    "import requests, time, matplotlib, contextlib, os\n",
    "from IPython.display import Audio, display\n",
    "#         .         .         .         .         .         .         .         .\n",
    "import matplotlib.pyplot as plt\n",
    "from tqdm.notebook import tqdm\n",
    "from itertools import product\n",
    "import pandas as pd\n",
    "pd.options.display.float_format = '{:.2f}'.format\n",
    "pd.options.display.max_columns  = 200"
   ]
  },
  {
   "cell_type": "code",
   "execution_count": 8,
   "id": "e1f06bdc-2159-479d-be0f-eb9c4dca657f",
   "metadata": {},
   "outputs": [],
   "source": [
    "import scanpy as sc; sc.settings.seed = 42"
   ]
  },
  {
   "cell_type": "code",
   "execution_count": null,
   "id": "f492efa4-007d-4d48-b7eb-05315da33158",
   "metadata": {},
   "outputs": [],
   "source": []
  },
  {
   "cell_type": "code",
   "execution_count": 9,
   "id": "051e8b61-e5bf-4b26-9fd6-1b2437aaa5a5",
   "metadata": {
    "editable": true,
    "slideshow": {
     "slide_type": ""
    },
    "tags": []
   },
   "outputs": [],
   "source": [
    "total_records = 10000\n",
    "batch_size    = 1000"
   ]
  },
  {
   "cell_type": "code",
   "execution_count": 10,
   "id": "5e305f68-5cda-4b04-92f9-8876dcaa1fd7",
   "metadata": {},
   "outputs": [],
   "source": [
    "url = \"https://api.fda.gov/drug/event.json\""
   ]
  },
  {
   "cell_type": "code",
   "execution_count": 11,
   "id": "5deed364-fbce-4ca3-8b95-9bb4f7e524c0",
   "metadata": {},
   "outputs": [],
   "source": [
    "#adv_event_filter = ['Febrile neutropenia', 'Diarrhoea', 'Myelosuppression', 'Myalgia']"
   ]
  },
  {
   "cell_type": "code",
   "execution_count": null,
   "id": "fe0ee7b2-ca75-4486-9f45-e1d688b16726",
   "metadata": {},
   "outputs": [],
   "source": []
  },
  {
   "cell_type": "code",
   "execution_count": 12,
   "id": "699a1bea-0d74-4c92-a2d5-6385040133d4",
   "metadata": {},
   "outputs": [],
   "source": [
    "drug_names = [\n",
    "    \"5-FU\", \"Abemaciclib\", \"Abiraterone\", \"Alectinib\", \"Anastrozole\", \"Apalutamide\", \"Atezolizumab\", \"Bevacizumab\", \"Cabazitaxel\", \"Cabozantinib\", \"Capecitabine\",\n",
    "    \"Carboplatin\", \"Cetuximab\", \"Cisplatin\", \"Dabrafenib\", \"Docetaxel\", \"Durvalumab\", \"Enfortumab Vedotin\", \"Enzalutamide\", \"Etoposide\", \"Exemestane\", \"Fulvestrant\",\n",
    "    \"Gemcitabine\", \"Goserelin\", \"Irinotecan\", \"Kadcyla\", \"Lenvatinib\", \"Letrozole\", \"Leucovorin\", \"Levothyroxine\", \"Lorlatinib\", \"Nivolumab\", \"Osimertinib\",\n",
    "    \"Paclitaxel\", \"Palbociclib\", \"Panitumumab\", \"Pembrolizumab\", \"Pertuzumab\", \"Ribociclib\", \"Regorafenib\", \"Sorafenib\", \"Tamoxifen\", \"T-DM1\", \"T-DXd\", \n",
    "    \"Trametinib\", \"Trastuzumab\", \"Tremelimumab\", \"Vandetanib\"]"
   ]
  },
  {
   "cell_type": "code",
   "execution_count": 13,
   "id": "c17e0028-cde9-419d-b450-1b0b061ac4ac",
   "metadata": {},
   "outputs": [],
   "source": [
    "drug_names = [\"Kadcyla\", \"Adcetris\", \"Polivy\", \"Enhertu\", \"Trodelvy\",\n",
    "    \"Gemtuzumab ozogamicin\", \"Brentuximab vedotin\", \"Ado-trastuzumab emtansine\", \"Inotuzumab ozogamicin\", \"Moxetumomab pasudotox\", \"Polatuzumab vedotin\",\n",
    "    \"Enfortumab vedotin\", \"Trastuzumab deruxtecan\", \"Sacituzumab govitecan\", \"Belantamab mafodotin\", \"Loncastuximab tesirine\", \"Tisotumab vedotin\", \"Mirvetuximab soravtansine\",\n",
    "    \"Datroway\", \"BNT323/DB-1303\", \"BNT323\", \"B-1303\", \"ZL-1310\", \"IMGN853\", \"ABBV-181\", \"MCLA-128\", \"SYD985\", \"BTK-ADC\", \"STRO-002\", \"ENHERTU (DS-8201)\",\n",
    "    \"DS-8201\", \"ENHERTU\", \"YTX-7739\", \"Q2W-ADC\"]"
   ]
  },
  {
   "cell_type": "code",
   "execution_count": 14,
   "id": "00f9d8cc-1891-442a-bc79-a1265875148d",
   "metadata": {},
   "outputs": [],
   "source": [
    "drug_names = [\"Kadcyla\", \"Adcetris\", \"Polivy\", \"Enhertu\", \"Trodelvy\"]"
   ]
  },
  {
   "cell_type": "code",
   "execution_count": null,
   "id": "725e8190-d3c0-445f-b96f-7a96ecd298bf",
   "metadata": {},
   "outputs": [],
   "source": []
  },
  {
   "cell_type": "code",
   "execution_count": 15,
   "id": "2b2e3ffc-d24c-4ded-81a0-8e00d57c2f5b",
   "metadata": {
    "editable": true,
    "slideshow": {
     "slide_type": ""
    },
    "tags": []
   },
   "outputs": [],
   "source": [
    "def safe_request(url, params, retries=5, delay=3):\n",
    "    for i in range(retries):\n",
    "        try:\n",
    "            response = requests.get(url, params=params, timeout=30)\n",
    "            if not response or response.status_code != 200:\n",
    "                #print(f\"Request failed with status code {response.status_code} for batch {params.get('skip', '?')}\")\n",
    "                continue\n",
    "            return response\n",
    "            \n",
    "        except requests.exceptions.ReadTimeout:\n",
    "            #print(f\"Timeout on batch {params.get('skip', '?')} for drug {params['search']}. Retrying ({i+1}/{retries})...\")\n",
    "            time.sleep(delay)\n",
    "        except requests.exceptions.RequestException as e:\n",
    "            #print(f\"Request failed: {e}\")\n",
    "            break\n",
    "    return None  # All retries failed"
   ]
  },
  {
   "cell_type": "code",
   "execution_count": 16,
   "id": "8b1c2535-c944-441f-88cf-fa6b03d5968f",
   "metadata": {},
   "outputs": [],
   "source": [
    "all_records = []"
   ]
  },
  {
   "cell_type": "code",
   "execution_count": null,
   "id": "9936c66e-3ceb-4e1f-873b-b86a07331944",
   "metadata": {},
   "outputs": [
    {
     "data": {
      "application/vnd.jupyter.widget-view+json": {
       "model_id": "3d65c0a7d54a4fe5a273659292fce93a",
       "version_major": 2,
       "version_minor": 0
      },
      "text/plain": [
       "  0%|          | 0/5 [00:00<?, ?it/s]"
      ]
     },
     "metadata": {},
     "output_type": "display_data"
    }
   ],
   "source": [
    "for drug_name in tqdm(drug_names):\n",
    "    for skip in range(0, total_records, batch_size):\n",
    "        params = {\"search\": f\"patient.drug.medicinalproduct:{drug_name}\", \"limit\": batch_size, \"skip\": skip}\n",
    "        response = safe_request(url, params)\n",
    "        \n",
    "        if not response:\n",
    "            continue    # Skip failed attempt\n",
    "\n",
    "        # Debugging: Check if the response has data\n",
    "        #print(f\"Fetched {len(response.json().get('results', []))} records for drug {drug_name}, skip {skip}.\")\n",
    "\n",
    "        data = response.json(); results = data.get(\"results\", [])\n",
    "        \n",
    "        if not results:\n",
    "            print(f\"No data returned for batch {skip}.\")\n",
    "            continue    # Skip if no results\n",
    "        \n",
    "        for result in results:\n",
    "            \n",
    "            seriousness = {\n",
    "                \"Death\":           int(result.get(\"seriousnessdeath\",           0)),\n",
    "                \"Hospitalization\": int(result.get(\"seriousnesshospitalization\", 0)),\n",
    "                \"LifeThreatening\": int(result.get(\"seriousnesslifethreatening\", 0)),\n",
    "                \"Other\":           int(result.get(\"seriousnessother\",           0))}\n",
    "            \n",
    "            for reaction in result.get(\"patient\", {}).get(\"reaction\", []):\n",
    "                record = {\"Drug_Name\": drug_name, \"Adverse_Event\": reaction.get(\"reactionmeddrapt\", \"Unknown\"), **seriousness}\n",
    "                all_records.append(record)"
   ]
  },
  {
   "cell_type": "code",
   "execution_count": null,
   "id": "3fa8ec98-a64e-4f11-bd3c-b6e2adf2e3ce",
   "metadata": {},
   "outputs": [],
   "source": [
    "df = pd.DataFrame(all_records)\n",
    "print(len(df)); df.sample(3)"
   ]
  },
  {
   "cell_type": "code",
   "execution_count": null,
   "id": "86f5a8fd-ab38-4a76-9820-7d01660a6e6c",
   "metadata": {},
   "outputs": [],
   "source": [
    "df['Drug_Name']     = df['Drug_Name'].str.title()\n",
    "df['Adverse_Event'] = df['Adverse_Event'].str.title()\n",
    "print(len(df)); df.sample(3)"
   ]
  },
  {
   "cell_type": "code",
   "execution_count": null,
   "id": "81d0945f-c134-4436-b833-d9a77510a52b",
   "metadata": {},
   "outputs": [],
   "source": []
  },
  {
   "cell_type": "code",
   "execution_count": null,
   "id": "2c2ec375-9039-45a5-bb30-5e3c855028d5",
   "metadata": {},
   "outputs": [],
   "source": [
    "drug_names_list = df['Drug_Name'].unique().tolist()\n",
    "\n",
    "list2_set = set(drug_names_list)\n",
    "diff = [item for item in drug_names if item not in list2_set]\n",
    "\n",
    "#print(len(drug_names)); print('\\033[32m', sorted(drug_names), '\\033[0m')\n",
    "#print(len(diff)); print('\\033[32m', sorted(diff), '\\033[0m')\n",
    "\n",
    "drug_names_word_list1  =  \", \".join(sorted(drug_names));       print('\\n\\033[32m', drug_names_word_list1, '\\033[0m')\n",
    "drug_names_word_list2  =  \", \".join(sorted(drug_names_list));  print('\\n\\033[32m', drug_names_word_list2, '\\033[0m')\n",
    "diff_word_list         =  \", \".join(sorted(diff));             print('\\n\\033[32m', diff_word_list,        '\\033[0m\\n')"
   ]
  },
  {
   "cell_type": "code",
   "execution_count": null,
   "id": "40486179-b207-4141-a878-78a8ea08d1ab",
   "metadata": {},
   "outputs": [],
   "source": [
    "adverse_event_list = df['Adverse_Event'].unique().tolist()\n",
    "\n",
    "print(len(adverse_event_list))\n",
    "print('\\n\\033[32m', sorted(adverse_event_list[:10]), '\\033[0m\\n')"
   ]
  },
  {
   "cell_type": "code",
   "execution_count": null,
   "id": "0784ecfb-8087-4955-9a67-97ba597dac7b",
   "metadata": {},
   "outputs": [],
   "source": [
    "with open(\"./data/adverse_event_list.txt\", \"w\") as f:\n",
    "    for item in adverse_event_list:\n",
    "        f.write(f\"{item}\\n\")"
   ]
  },
  {
   "cell_type": "code",
   "execution_count": null,
   "id": "a7b00267-d05a-4a2f-81a0-e296c3505ecf",
   "metadata": {},
   "outputs": [],
   "source": []
  },
  {
   "cell_type": "code",
   "execution_count": null,
   "id": "3feff762-10de-46b9-b0d4-3dc564a1440c",
   "metadata": {},
   "outputs": [],
   "source": [
    "# Aggregate total counts for each seriousness flag by Adverse Event and ADC Name\n",
    "agg = df.groupby([\"Drug_Name\", \"Adverse_Event\"]).sum(numeric_only=True)\n",
    "agg[\"Total\"] = agg.sum(axis=1)      # Compute the 'Total' column across all seriousness flags for each Adverse Event and ADC\n",
    "agg_reset = agg.reset_index()       # Reset index to flatten the DataFrame (remove multi-level index)\n",
    "agg_reset = agg_reset.sort_values(by='Total', ascending=False)\n",
    "print(len(agg_reset));agg_reset.head(5)"
   ]
  },
  {
   "cell_type": "code",
   "execution_count": null,
   "id": "84ff3fca-3626-43d0-a622-fe60d6cc26a9",
   "metadata": {},
   "outputs": [],
   "source": [
    "#agg_reset = agg_reset[agg_reset['Adverse_Event'].isin(adv_event_filter)]\n",
    "print(len(agg_reset));agg_reset.head(5)"
   ]
  },
  {
   "cell_type": "code",
   "execution_count": null,
   "id": "94b9151c-b508-4e34-bae3-326317144839",
   "metadata": {},
   "outputs": [],
   "source": [
    "# Normalizes the Death, Hospitalization, and LifeThreatening columns within each drug (ADC Name), ensuring their values sum to 100%.\n",
    "# It groups the data by drug, calculates the total for each seriousness column, and then divides each value by its respective total, multiplying by 100 to get percentages.\n",
    "# It then drops the temporary total column and fills any NaN values.\n",
    "\n",
    "# Step 1: Group by 'ADC Name' and sum each seriousness column\n",
    "agg_reset['Total_Seriousness'] = agg_reset.groupby('Drug_Name')[['Death', 'Hospitalization', 'LifeThreatening']].transform('sum').sum(axis=1)\n",
    "\n",
    "# Step 2: Normalize each column by dividing by the sum of that column for each drug\n",
    "for col in ['Death', 'Hospitalization', 'LifeThreatening', 'Other', 'Total']:\n",
    "    agg_reset[f'%{col}'] = agg_reset[col] * 100 / agg_reset.groupby('Drug_Name')[col].transform('sum')\n",
    "\n",
    "agg_reset = agg_reset.drop(columns=['Total_Seriousness'])   # Step 3: Drop the temporary 'Total Seriousness' column\n",
    "\n",
    "agg_reset = agg_reset.fillna(0)    # Fill NaN values (if any)\n",
    "\n",
    "print(len(agg_reset)); agg_reset.head(5)"
   ]
  },
  {
   "cell_type": "code",
   "execution_count": null,
   "id": "65205f94-3d1c-4585-a222-37275600ceba",
   "metadata": {
    "editable": true,
    "slideshow": {
     "slide_type": ""
    },
    "tags": []
   },
   "outputs": [],
   "source": [
    "agg_reset.to_csv(\"./data/drug_AEs.csv\", index=False)\n",
    "#agg_reset.to_csv(\"./data/standard_of_care.csv\", index=False)"
   ]
  },
  {
   "cell_type": "code",
   "execution_count": null,
   "id": "2eb5ad8c-ce19-4824-9103-6ea937c99dce",
   "metadata": {
    "editable": true,
    "slideshow": {
     "slide_type": ""
    },
    "tags": []
   },
   "outputs": [],
   "source": [
    "# Path to your audio file\n",
    "audio_file = \"./data/clock-chime-88027.mp3\"\n",
    "display(Audio(audio_file, autoplay=True))"
   ]
  },
  {
   "cell_type": "code",
   "execution_count": null,
   "id": "72a10360-14e5-4f5d-8625-cc7e93e0fc64",
   "metadata": {},
   "outputs": [],
   "source": [
    "elapsed_time = time.time() - start\n",
    "minutes, seconds = divmod(elapsed_time, 60)\n",
    "print(\"'00_openFDA_UMAP_v01' script run time:\", f\"{int(minutes)} min {int(seconds)} sec.\")"
   ]
  },
  {
   "cell_type": "code",
   "execution_count": null,
   "id": "e7f35fde-edb8-4a2c-ac00-1121958785cb",
   "metadata": {},
   "outputs": [],
   "source": []
  }
 ],
 "metadata": {
  "kernelspec": {
   "display_name": "Python (jupyterlab)",
   "language": "python",
   "name": "jupyterlab"
  },
  "language_info": {
   "codemirror_mode": {
    "name": "ipython",
    "version": 3
   },
   "file_extension": ".py",
   "mimetype": "text/x-python",
   "name": "python",
   "nbconvert_exporter": "python",
   "pygments_lexer": "ipython3",
   "version": "3.12.3"
  }
 },
 "nbformat": 4,
 "nbformat_minor": 5
}

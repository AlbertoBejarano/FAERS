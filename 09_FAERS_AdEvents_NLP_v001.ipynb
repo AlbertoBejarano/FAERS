{
 "cells": [
  {
   "cell_type": "code",
   "execution_count": 1,
   "id": "b48298da-a147-4f3d-a24c-29146a940032",
   "metadata": {},
   "outputs": [],
   "source": [
    "# Alberto Bejarano [2025]\n",
    "# FAERS_AdEvents_NLP_v001"
   ]
  },
  {
   "cell_type": "code",
   "execution_count": 2,
   "id": "160a9a02-6992-4b12-a875-8b01b3f76e09",
   "metadata": {},
   "outputs": [],
   "source": [
    "# FAERS_AdEvents_NLP_v001\n",
    "# This code applies Natural Language Processing (NLP) and machine learning to categorize adverse medical events based on semantic similarity. Each event is embedded into a vector representation\n",
    "# using a pre-trained DistilBERT model, capturing the underlying meaning of the text. The K-Means clustering algorithm (KMeans from scikit-learn) then groups these vectors into 10 clusters,\n",
    "# revealing patterns of similar adverse events. A Pandas DataFrame is created to map each event to its assigned cluster, and the results are printed to display the events grouped into distinct \n",
    "# categories. This process helps efficiently organize and analyze adverse events data for pattern recognition and deeper insights."
   ]
  },
  {
   "cell_type": "code",
   "execution_count": 3,
   "id": "3b825a26-69b6-43e3-a2b3-def6b2f77c69",
   "metadata": {},
   "outputs": [],
   "source": [
    "# !pip install sentence-transformers"
   ]
  },
  {
   "cell_type": "code",
   "execution_count": 4,
   "id": "f4c74b07-5855-43c2-98fb-afef77a59305",
   "metadata": {},
   "outputs": [
    {
     "name": "stdout",
     "output_type": "stream",
     "text": [
      "April 21, 2025 18:59:18\n"
     ]
    }
   ],
   "source": [
    "import time; start = time.time()\n",
    "from datetime import datetime; print(datetime.now().strftime(\"%B %d, %Y %H:%M:%S\"))"
   ]
  },
  {
   "cell_type": "code",
   "execution_count": 5,
   "id": "8a2a8860-2e7f-43d7-bfdd-4843ff02fe18",
   "metadata": {},
   "outputs": [],
   "source": [
    "import os\n",
    "os.environ[\"HF_HUB_DISABLE_SYMLINKS_WARNING\"] = \"1\""
   ]
  },
  {
   "cell_type": "code",
   "execution_count": 6,
   "id": "80f60fd8-0255-43af-8b1f-b10ad295ceaf",
   "metadata": {},
   "outputs": [],
   "source": [
    "import pandas as pd\n",
    "from sentence_transformers import SentenceTransformer\n",
    "from sklearn.cluster import KMeans"
   ]
  },
  {
   "cell_type": "code",
   "execution_count": 7,
   "id": "c707cf12-6252-44ca-bd60-8d642ce26d51",
   "metadata": {},
   "outputs": [],
   "source": [
    "# Sample list of adverse events\n",
    "adverse_events =  ['Abasia', 'Abdominal Abscess', 'Abdominal Adhesions', 'Abdominal Compartment Syndrome', 'Abdominal Discomfort', 'Abdominal Distension', \n",
    "                   'Abdominal Incarcerated Hernia', 'Abdominal Infection', 'Abdominal Injury', 'Abdominal Lymphadenopathy', 'Abdominal Mass', 'Abdominal Neoplasm', \n",
    "                   'Abdominal Operation', 'Abdominal Pain', 'Abdominal Pain Lower', 'Abdominal Pain Upper', 'Abdominal Rigidity', 'Abdominal Sepsis', 'Abdominal Symptom',\n",
    "                   'Abdominal Tenderness', 'Abdominal Wall Abscess', 'Abnormal Behaviour', 'Abnormal Dreams', 'Abnormal Faeces', 'Abnormal Loss Of Weight', \n",
    "                   'Abnormal Sensation In Eye', 'Abnormal Uterine Bleeding', 'Abnormal Weight Gain', 'Abortion', 'Abortion Induced', 'Abortion Spontaneous', \n",
    "                   'Abscess', 'Abscess Fungal', 'Abscess Intestinal', 'Abscess Limb', 'Abscess Neck', 'Abulia', 'Acanthamoeba Infection', 'Acarodermatitis',\n",
    "                   'Accelerated Idioventricular Rhythm', 'Accident', 'Accidental Exposure', 'Accidental Exposure To Product', 'Accidental Overdose', 'Accommodation Disorder']"
   ]
  },
  {
   "cell_type": "code",
   "execution_count": 8,
   "id": "9cd425c8-697e-4b2d-a59b-aa5eb5635b9d",
   "metadata": {},
   "outputs": [
    {
     "name": "stdout",
     "output_type": "stream",
     "text": [
      "3430\n",
      "Febrile Neutropenia, Cardiotoxicity, Malaise, Mental Disorder, General Physical Health Deterioration, Anaemia, Delirium, Cerebral Haemorrhage, Eastern Cooperative Oncology Group Performance Status Worsened, Infusion Related Reaction\n"
     ]
    }
   ],
   "source": [
    "with open(\"./data/adverse_event_list.txt\", \"r\") as f:\n",
    "    adverse_events = [line.strip() for line in f]\n",
    "print(len(adverse_events))\n",
    "word_list = \", \".join(adverse_events[:10]); print(word_list)"
   ]
  },
  {
   "cell_type": "code",
   "execution_count": 9,
   "id": "f923e40c-d0ab-4fb8-9a26-d4cf13700fea",
   "metadata": {},
   "outputs": [],
   "source": [
    "# Load pre-trained model for embeddings\n",
    "model = SentenceTransformer('distilbert-base-nli-stsb-mean-tokens')"
   ]
  },
  {
   "cell_type": "code",
   "execution_count": 10,
   "id": "e39da912-5a43-4406-9447-7ccd7984c4dd",
   "metadata": {},
   "outputs": [],
   "source": [
    "# For domain-specific medical text, pre-trained on clinical data\n",
    "# ClinicalBERT, fine-tuned on clinical text (e.g., clinical trials, medical literature)\n",
    "#model = SentenceTransformer('emilyalsentzer/Bio_ClinicalBERT')  # Clinical BERT for clinical trial data\n",
    "\n",
    "# For biomedical texts, trained on PubMed and PMC articles\n",
    "#model = SentenceTransformer('biobert-large-cased-v1.1')  # BioBERT for biomedical text (PubMed/PMC)\n",
    "\n",
    "# Another option trained on PubMed, focused on biomedical research literature\n",
    "#model = SentenceTransformer('pubmed-bert-base')  # PubMed BERT for medical research-based text\n",
    "\n",
    "# Lightweight and fast model, good for semantic similarity tasks, not domain-specific\n",
    "#model = SentenceTransformer('paraphrase-MiniLM-L6-v2')  # Fast, general-purpose model (not specifically clinical)\n",
    "\n",
    "# General-purpose model fine-tuned on the Semantic Textual Similarity dataset\n",
    "#model = SentenceTransformer('stsb-roberta-large')  # RoBERTa for general text similarity (clinical possible)"
   ]
  },
  {
   "cell_type": "code",
   "execution_count": 11,
   "id": "48c15245-f764-4258-b4f9-1169fb98bdef",
   "metadata": {},
   "outputs": [],
   "source": [
    "# Generate embeddings for adverse events\n",
    "embeddings = model.encode(adverse_events)"
   ]
  },
  {
   "cell_type": "code",
   "execution_count": 12,
   "id": "41c613f9-e1ba-4913-ac25-8a6535ee098b",
   "metadata": {},
   "outputs": [],
   "source": [
    "# Define number of categories (clusters)\n",
    "num_categories = 30 # You can adjust this number as needed"
   ]
  },
  {
   "cell_type": "code",
   "execution_count": 13,
   "id": "35728443-4e48-499f-83a5-5ee2b6227178",
   "metadata": {},
   "outputs": [],
   "source": [
    "# Use KMeans clustering to group events based on embeddings\n",
    "kmeans   = KMeans(n_clusters=num_categories, n_init=10, random_state=0)\n",
    "clusters = kmeans.fit_predict(embeddings)"
   ]
  },
  {
   "cell_type": "code",
   "execution_count": 14,
   "id": "f480c24c-f277-45f1-9bad-e207d777e533",
   "metadata": {},
   "outputs": [],
   "source": [
    "# Create a DataFrame to map events to their clusters\n",
    "df = pd.DataFrame({'Adverse Event': adverse_events, 'Category': clusters})"
   ]
  },
  {
   "cell_type": "code",
   "execution_count": 15,
   "id": "8eefd6d6-4862-46d9-8a04-8cf4b555848b",
   "metadata": {},
   "outputs": [
    {
     "name": "stdout",
     "output_type": "stream",
     "text": [
      "\n",
      "\u001b[32mCategory 0:\u001b[0m\n",
      "Abscess Limb, Acetabulum Fracture, Ankle Fracture, Atypical Femur Fracture, Cervical Vertebral Fracture, Clavicle Fracture, Compression Fracture, Contusion, Device Dislocation, Duodenal Perforation, Duodenitis, Femoral Neck Fracture, Femur Fracture, Fibula Fracture, Finger Amputation, Fracture, Fracture Displacement, Fractured Sacrum, Hand Fracture, Hip Fracture, Hip Surgery, Joint Ankylosis, Joint Dislocation, Joint Effusion, Joint Injury, Joint Range Of Motion Decreased, Joint Stiffness, Joint Swelling, Leg Amputation, Limb Injury, Limb Mass, Long Qt Syndrome, Lower Limb Fracture, Lumbar Vertebral Fracture, Metastases To Muscle, Metastases To Neck, Metastases To Spine, Multiple Fractures, Muscle Atrophy, Muscle Contracture, Muscle Disorder, Muscle Fatigue, Muscle Injury, Muscle Spasms, Muscle Spasticity, Muscle Strain, Muscle Tightness, Muscle Twitching, Muscular Weakness, Musculoskeletal Stiffness, Neck Injury, Neck Mass, Nerve Injury, Nerve Root Compression, Patella Fracture, Physical Disability, Pubis Fracture, Radius Fracture, Restless Legs Syndrome, Rib Fracture, Richter^S Syndrome, Spinal Compression Fracture, Spinal Cord Compression, Spinal Cord Injury, Spinal Fracture, Spinal Operation, Spinal Pain, Stevens-Johnson Syndrome, Stress, Stress Fracture, Temporomandibular Joint Syndrome, Tendon Disorder, Tendon Rupture, Tibia Fracture, Tremor, Trigger Finger, Upper Limb Fracture, Wrist Fracture\n",
      "\n",
      "\u001b[32mCategory 1:\u001b[0m\n",
      "Abdominal Discomfort, Accident, Acne, Acne Cystic, Aneurysm, Application Site Irritation, Arteriovenous Malformation, Arthritis, Arthritis Infective, Axillary Pain, Back Pain, Blister Rupture, Bronchial Obstruction, Carditis, Cataract Operation Complication, Catheter Site Pain, Complication Associated With Device, Corneal Erosion, Corneal Irritation, Corneal Scar, Critical Illness, Cyst, Device Damage, Device Related Infection, Duodenal Ulcer, Duodenal Ulcer Perforation, Ear Discomfort, Epigastric Discomfort, Eye Abscess, Eye Infection, Eye Inflammation, Eye Injury, Eye Irritation, Eye Pain, Eye Swelling, Eye Ulcer, Eyelid Pain, Face Injury, Facial Pain, Flank Pain, Gouty Arthritis, Graft Complication, Head Injury, Iatrogenic Infection, Iatrogenic Injury, Illness, Implant Site Pain, Implant Site Rash, Implant Site Ulcer, Increased Tendency To Bruise, Infarction, Inflammation, Inflammatory Marker Increased, Infusion Site Bruising, Infusion Site Pain, Injection Site Discomfort, Injection Site Inflammation, Injection Site Pain, Injury, Injury Corneal, Internal Injury, Laryngeal Discomfort, Laryngeal Pain, Ligament Pain, Limb Discomfort, Lip Injury, Lip Pain, Macular Hole, Mitral Valve Incompetence, Multiple Injuries, Musculoskeletal Pain, Neck Pain, Needle Issue, Oral Pain, Oropharyngeal Discomfort, Pain, Pain In Extremity, Painful Respiration, Paranasal Sinus Discomfort, Pelvic Pain, Perineal Pain, Periorbital Swelling, Pharyngeal Inflammation, Pleuritic Pain, Post Procedural Complication, Procedural Complication, Procedural Pain, Rectal Ulcer, Rheumatoid Arthritis, Rhinitis, Sacral Pain, Scar, Scar Pain, Sedation Complication, Sinus Pain, Sternal Injury, Suprapubic Pain, Tendon Pain, Tendonitis, Testicular Pain, Toxic Cardiomyopathy, Tracheal Disorder, Tracheal Pain, Tracheitis, Tumour Pain, Ulcer, Vascular Access Site Pain, Vessel Puncture Site Bruise, Vessel Puncture Site Pain, Vulvovaginal Pain, Wound, Wound Decomposition, Wound Dehiscence, Wound Infection\n",
      "\n",
      "\u001b[32mCategory 2:\u001b[0m\n",
      "Adenocarcinoma, Adenocarcinoma Gastric, Adenocarcinoma Pancreas, Adenoviral Haemorrhagic Cystitis, Age-Related Macular Degeneration, Anaemia Of Chronic Disease, Aphthous Ulcer, Arrhythmogenic Right Ventricular Dysplasia, Arterial Haemorrhage, Autoimmune Haemolytic Anaemia, Bronchial Oedema, Bronchitis Chronic, Bursitis, Catheter Site Haemorrhage, Cerebellar Haemorrhage, Cerebral Haemorrhage, Cerebrovascular Arteriovenous Malformation, Cold Type Haemolytic Anaemia, Colitis, Colitis Erosive, Colitis Ischaemic, Colitis Ulcerative, Conjunctival Haemorrhage, Coombs Negative Haemolytic Anaemia, Corneal Abscess, Cystitis Haemorrhagic, Decubitus Ulcer, Dermatitis Bullous, Diarrhoea Haemorrhagic, Duodenal Ulcer Haemorrhage, Eastern Cooperative Oncology Group Performance Status Worsened, Endocarditis, Enterocolitis, Enterocolitis Haemorrhagic, Escherichia Urinary Tract Infection, Gastric Haemorrhage, Gastric Ulcer, Gastric Ulcer Haemorrhage, Gastric Ulcer Perforation, Gastric Varices Haemorrhage, Gastroduodenal Ulcer, Haemolysis, Haemolytic Anaemia, Haemolytic Uraemic Syndrome, Haemorrhage, Haemorrhage Intracranial, Haemorrhage Subcutaneous, Haemorrhagic Ascites, Haemorrhagic Stroke, Haemorrhagic Vasculitis, Haemorrhoidal Haemorrhage, Haemorrhoids, Heavy Menstrual Bleeding, Helicobacter Gastritis, Human Anaplasmosis, Idiopathic Urticaria, Infective Aneurysm, Infusion Site Haemorrhage, Injection Site Haemorrhage, Injection Site Oedema, Internal Haemorrhage, Intra-Abdominal Haemorrhage, Intracranial Tumour Haemorrhage, Intraventricular Haemorrhage, Iron Deficiency Anaemia, Irritable Bowel Syndrome, Ischaemic Stroke, Macular Degeneration, Macular Oedema, Maculopathy, Mastitis, Medical Device Site Haemorrhage, Meningism, Meningitis, Meningitis Aseptic, Meningitis Cryptococcal, Meningitis Listeria, Meningitis Pneumococcal, Meningitis Tuberculous, Meningoencephalitis Amoebic, Meningorrhagia, Mesenteric Haemorrhage, Mouth Haemorrhage, Mucosal Discolouration, Mucosal Disorder, Mucosal Haemorrhage, Mucosal Inflammation, Mucosal Toxicity, Muscle Haemorrhage, Myocarditis, Myopericarditis, Necrotising Colitis, Necrotising Fasciitis, Neutropenic Colitis, Obliterative Bronchiolitis, Oedema Mucosal, Oedematous Pancreatitis, Oesophageal Carcinoma, Oesophageal Haemorrhage, Oesophageal Irritation, Oesophageal Rupture, Oesophageal Spasm, Oesophageal Ulcer, Oesophageal Varices Haemorrhage, Pancreatic Cyst, Pancreatic Disorder, Pancreatic Failure, Pancreatic Fistula, Pancreatic Haemorrhage, Pancreatic Steatosis, Pancreatitis, Pancreatitis Acute, Pancreatitis Necrotising, Pancreatitis Relapsing, Peptic Ulcer Haemorrhage, Pericardial Haemorrhage, Post Procedural Diarrhoea, Post Procedural Haemorrhage, Postmenopausal Haemorrhage, Postrenal Failure, Proctitis Ulcerative, Pseudomembranous Colitis, Rectal Haemorrhage, Retinal Haemorrhage, Shock Haemorrhagic, Spontaneous Haemorrhage, Subarachnoid Haemorrhage, Subdural Haemorrhage, Tongue Haemorrhage, Tonsillitis, Toxic Encephalopathy, Toxic Nodular Goitre, Tracheal Fistula, Tracheal Haemorrhage, Tracheo-Oesophageal Fistula, Traumatic Intracranial Haemorrhage, Tumour Associated Fever, Tumour Embolism, Tumour Haemorrhage, Tumour Ulceration, Ulcer Haemorrhage, Ulcerative Keratitis, Urethral Haemorrhage, Urinary Tract Stoma Complication, Uterine Haemorrhage, Vaginal Haemorrhage, Vasculitis Necrotising, Venous Haemorrhage, Vessel Puncture Site Haemorrhage, Vitreous Haemorrhage, Wound Haemorrhage\n",
      "\n",
      "\u001b[32mCategory 3:\u001b[0m\n",
      "Abdominal Wall Haematoma, Acquired Attr Amyloidosis, Acquired Haemophilia, Acquired Von Willebrand^S Disease, Acute Myeloid Leukaemia, Acute Myeloid Leukaemia Refractory, Administration Site Vasculitis, Adrenal Haematoma, Adrenal Neoplasm, Adult T-Cell Lymphoma/Leukaemia, Agranulocytosis, Alveolitis, Anaplastic Large Cell Lymphoma T- And Null-Cell Types, Anaplastic Large Cell Lymphoma T- And Null-Cell Types Recurrent, Anaplastic Large Cell Lymphoma T- And Null-Cell Types Refractory, Anaplastic Large-Cell Lymphoma, Angioimmunoblastic T-Cell Lymphoma, Angiosarcoma, Anisocytosis, Apoptotic Colonopathy, Autoimmune Disorder, Autoimmune Myositis, Autoimmune Nephritis, Axonal And Demyelinating Polyneuropathy, B-Cell Lymphoma, Basal Ganglia Haematoma, Basal Ganglion Degeneration, Biliary Colic, Biliary Fistula, Biliary Obstruction, Biliary Tract Disorder, Biliary Tract Infection, Blepharospasm, Brain Neoplasm Benign, Carbohydrate Antigen 15-3, Cardiomyopathy, Castleman^S Disease, Catheter Site Cellulitis, Catheter Site Urticaria, Cell Death, Cell-Mediated Immune Deficiency, Cellulitis, Cerebellar Haematoma, Choroidal Neovascularisation, Chronic Myeloid Leukaemia, Coeliac Disease, Collagen-Vascular Disease, Composite Lymphoma, Corneal Epithelial Microcysts, Creutzfeldt-Jakob Disease, Crohn^S Disease, Cytomegalovirus Oesophagitis, Diabetic Ketoacidosis, Diabetic Ketosis, Diffuse Large B-Cell Lymphoma, Diffuse Large B-Cell Lymphoma Recurrent, Diffuse Large B-Cell Lymphoma Refractory, Diverticulitis, Encephalitis Autoimmune, Encephalitis Cytomegalovirus, Eosinophilic Granulomatosis With Polyangiitis, Epstein-Barr Virus Associated Lymphoma, Epstein-Barr Virus Associated Lymphoproliferative Disorder, Extradural Haematoma, Eye Haematoma, Factor V Leiden Mutation, Faecaloma, Focal Segmental Glomerulosclerosis, Foetal Growth Restriction, Folliculitis, Fulminant Type 1 Diabetes Mellitus, Fungal Oesophagitis, Gallbladder Adenocarcinoma, Gallbladder Disorder, Gallbladder Oedema, Gallbladder Polyp, Gingivitis, Glaucoma, Glomerulonephritis, Glomerulonephritis Chronic, Granulocytopenia, Granulocytosis, Granuloma, Graves^ Disease, Haematemesis, Haematochezia, Haematological Infection, Haematological Malignancy, Haematoma, Haematotoxicity, Haemodialysis, Haemoglobin, Haemoglobinaemia, Haemophagocytic Lymphohistiocytosis, Haemophilus Infection, Haemoptysis, Haemorrhagic Diathesis, Hepatic Infection Fungal, Hepatic Neoplasm, Hepatobiliary Disease, Hepatocellular Carcinoma, Hepatocellular Injury, Hepatopulmonary Syndrome, Hepatorenal Syndrome, Hepatosplenic Candidiasis, Histiocytosis Haematophagic, Hodgkin'S Disease, Hodgkin'S Disease Nodular Sclerosis Stage Unspecified, Hodgkin^S Disease, Hodgkin^S Disease Mixed Cellularity Refractory, Hodgkin^S Disease Nodular Sclerosis Recurrent, Hodgkin^S Disease Nodular Sclerosis Stage Iii, Hodgkin^S Disease Recurrent, Hodgkin^S Disease Refractory, Hypogammaglobulinaemia, Ileus Paralytic, Immune Thrombocytopenia, Immune Thrombocytopenic Purpura, Immune-Mediated Enterocolitis, Implant Site Haematoma, Infectious Mononucleosis, Intraductal Papillary Mucinous Neoplasm, Intravascular Haemolysis, Large Granular Lymphocytosis, Leiomyosarcoma, Leukocyturia, Leukostasis Syndrome, Lymphoplasmacytoid Lymphoma/Immunocytoma, Lymphoproliferative Disorder, Macrocytosis, Malignant Melanoma, Mast Cell Activation Syndrome, Mastoiditis, Medical Device Site Cellulitis, Meibomian Gland Dysfunction, Mesangioproliferative Glomerulonephritis, Mucosal Membrane Hyperplasia, Multiple Organ Dysfunction Syndrome, Multisystem Inflammatory Syndrome, Mycoplasma Infection, Myelitis Transverse, Myelodysplastic Syndrome, Myelofibrosis, Natural Killer-Cell Lymphoblastic Lymphoma, Nephrocalcinosis, Nodular Lymphocyte Predominant Hodgkin Lymphoma, Non-Hodgkin^S Lymphoma, Non-Hodgkin^S Lymphoma Recurrent, Non-Hodgkin^S Lymphoma Refractory, Non-Hodgkin^S Lymphoma Stage Iii, Non-Hodgkin^S Lymphoma Transformed Recurrent, Noninfective Gingivitis, Normochromic Normocytic Anaemia, Oesophageal Achalasia, Oesophageal Candidiasis, Oncologic Complication, Palmar Erythema, Palmar-Plantar Erythrodysaesthesia Syndrome, Pancreatic Neoplasm, Papilloedema, Peritoneal Haematoma, Plasma Cell Myeloma, Plasmablastic Lymphoma, Poikilocytosis, Polymyositis, Post Procedural Haematoma, Post Transplant Lymphoproliferative Disorder, Primary Biliary Cholangitis, Primary Mediastinal Large B-Cell Lymphoma, Progressive Multifocal Leukoencephalopathy, Proteinuria, Pyoderma Gangrenosum, Pyogenic Granuloma, Rash Maculo-Papular, Stress Cardiomyopathy, Subcapsular Hepatic Haematoma, Subcutaneous Haematoma, Subdural Haematoma, Thrombocytopenia, Thrombocytopenic Purpura, Thrombocytosis, Thrombophlebitis Migrans, Type 1 Diabetes Mellitus, Viral Haemorrhagic Cystitis, Vogt-Koyanagi-Harada Disease, Vulvovaginitis, Waldenstrom^S Macroglobulinaemia\n",
      "\n",
      "\u001b[32mCategory 4:\u001b[0m\n",
      "Acute Graft Versus Host Disease In Skin, Biopsy Skin Abnormal, Chronic Graft Versus Host Disease In Skin, Exposure Via Skin Contact, Fungal Skin Infection, Graft Versus Host Disease In Skin, Infected Skin Ulcer, Metastases To Skin, Neuroendocrine Carcinoma Of The Skin, Pain Of Skin, Radiation Skin Injury, Sensitive Skin, Skin Abrasion, Skin Bacterial Infection, Skin Burning Sensation, Skin Cancer, Skin Depigmentation, Skin Discharge, Skin Discolouration, Skin Disorder, Skin Erosion, Skin Exfoliation, Skin Fissures, Skin Haemorrhage, Skin Hyperpigmentation, Skin Hypertrophy, Skin Implant, Skin Induration, Skin Infection, Skin Irritation, Skin Lesion, Skin Lesion Inflammation, Skin Lesion Removal, Skin Mass, Skin Necrosis, Skin Odour Abnormal, Skin Papilloma, Skin Plaque, Skin Pressure Mark, Skin Reaction, Skin Striae, Skin Texture Abnormal, Skin Toxicity, Skin Ulcer, Skin Wound, Squamous Cell Carcinoma Of Skin, Toxic Skin Eruption\n",
      "\n",
      "\u001b[32mCategory 5:\u001b[0m\n",
      "Acute Chest Syndrome, Acute Lung Injury, Acute Pulmonary Oedema, Acute Respiratory Distress Syndrome, Acute Respiratory Failure, Allergic Respiratory Symptom, Alveolar Lung Disease, Asthma, Asthmatic Crisis, Breathing-Related Sleep Disorder, Cardio-Respiratory Arrest, Chronic Obstructive Pulmonary Disease, Graft Versus Host Disease In Lung, Interstitial Lung Abnormality, Interstitial Lung Disease, Lower Respiratory Tract Infection, Lung Abscess, Lung Adenocarcinoma, Lung Cancer Metastatic, Lung Carcinoma Cell Type Unspecified Recurrent, Lung Consolidation, Lung Cyst, Lung Disorder, Lung Infection, Lung Infiltration, Lung Neoplasm, Lung Neoplasm Malignant, Lung Opacity, Mechanical Ventilation, Metastases To Lung, Musculoskeletal Chest Pain, Obstructive Airways Disorder, Oxygen Therapy, Pulmonary Alveolar Haemorrhage, Pulmonary Arterial Hypertension, Pulmonary Arterial Pressure Abnormal, Pulmonary Arterial Pressure Increased, Pulmonary Artery Thrombosis, Pulmonary Calcification, Pulmonary Cavitation, Pulmonary Congestion, Pulmonary Contusion, Pulmonary Embolism, Pulmonary Fibrosis, Pulmonary Haemorrhage, Pulmonary Hilum Mass, Pulmonary Hypertension, Pulmonary Imaging Procedure Abnormal, Pulmonary Infarction, Pulmonary Mass, Pulmonary Oedema, Pulmonary Pain, Pulmonary Sepsis, Pulmonary Septal Thickening, Pulmonary Thrombosis, Pulmonary Toxicity, Pulmonary Tuberculosis, Pulmonary Valve Incompetence, Pulmonary Vascular Disorder, Pulmonary Veno-Occlusive Disease, Radiation Fibrosis - Lung, Respiratory Acidosis, Respiratory Arrest, Respiratory Depression, Respiratory Disorder, Respiratory Distress, Respiratory Failure, Respiratory Muscle Weakness, Respiratory Rate Increased, Respiratory Symptom, Respiratory Syncytial Virus Infection, Respiratory Tract Infection, Respiratory Tract Infection Viral, Respiratory Tract Irritation, Restrictive Pulmonary Disease, Severe Acute Respiratory Syndrome, Total Lung Capacity Decreased, Transfusion-Related Acute Lung Injury, Traumatic Lung Injury, Upper Respiratory Tract Congestion, Upper Respiratory Tract Infection, Upper Respiratory Tract Inflammation, Upper-Airway Cough Syndrome, Viral Upper Respiratory Tract Infection\n",
      "\n",
      "\u001b[32mCategory 6:\u001b[0m\n",
      "Abscess, Acquired Left Ventricle Outflow Tract Obstruction, Anal Abscess, Anal Erosion, Anal Haemorrhage, Anal Inflammation, Anal Sphincter Atony, Biliary Dilatation, Bladder Irritation, Bladder Mass, Bladder Neck Obstruction, Bladder Neoplasm, Bladder Sphincter Atony, Bladder Tamponade, Blood Lactate Dehydrogenase, Blood Pressure Measurement, Blood Product Transfusion Dependent, Blood Urine Present, Bronchiectasis, Bronchiolitis, Bronchitis, Calculus Urinary, Capillary Leak Syndrome, Carpal Tunnel Syndrome, Catheter Site Pruritus, Central Venous Catheterisation, Change Of Bowel Habit, Chronic Sinusitis, Compartment Syndrome, Covid-19, Dehydration, Dependence On Oxygen Therapy, Dependence On Respirator, Dialysis, Dilatation Ventricular, Diverticulum, Eczema Nummular, Electrolyte Imbalance, Embolism, Embolism Venous, Fluid Imbalance, Fluid Replacement, Fluid Retention, Frequent Bowel Movements, Gastric Cyst, Gastric Dilatation, Gastric Operation, Gastric Perforation, Gastric Polyps, Gastric Stenosis, Gastric Varices, Genital Abscess, Genital Infection, Hot Flush, Hydrocephalus, Hydronephrosis, Hydrothorax, Impaired Gastric Emptying, Infusion Related Reaction, Infusion Site Discolouration, Infusion Site Reaction, Infusion Site Vesicles, Injection Site Discolouration, Injection Site Exfoliation, Injection Site Reaction, Injection Site Swelling, Injection Site Urticaria, Injection Site Vesicles, Left Ventricular Dilatation, Lethargy, Lid Sulcus Deepened, Lip Discolouration, Lip Haemorrhage, Lip Infection, Lip Oedema, Lip Ulceration, Lipiduria, Metastases To Pancreas, Neurogenic Bladder, Night Sweats, Nocturia, Paraesthesia, Paranasal Sinus Hypersecretion, Pelvic Fluid Collection, Penis Disorder, Pericardial Drainage, Peripheral Swelling, Peripheral Venous Disease, Pharyngeal Disorder, Pharyngeal Paraesthesia, Pharyngeal Swelling, Poor Venous Access, Positive Airway Pressure Therapy, Post-Acute Covid-19 Syndrome, Posterior Reversible Encephalopathy Syndrome, Pudendal Canal Syndrome, Purulent Discharge, Pustular Psoriasis, Pustule, Right Ventricular Dilatation, Salivary Gland Disorder, Salivary Hypersecretion, Secretion Discharge, Septic Embolus, Septic Shock, Serum Sickness, Serum Sickness-Like Reaction, Sinus Bradycardia, Sinus Congestion, Sinus Disorder, Sinus Node Dysfunction, Sinus Tachycardia, Sinusitis, Sinusitis Aspergillus, Spleen Congestion, Spleen Disorder, Splenic Embolism, Suffocation Feeling, Syncope, Synovial Cyst, Synovitis, Temperature Regulation Disorder, Thirst, Thrombotic Stroke, Tic, Tongue Oedema, Transfusion, Tubulointerstitial Nephritis, Ureteral Disorder, Ureteral Neoplasm, Ureteric Compression, Ureteric Obstruction, Ureteric Stenosis, Ureteritis, Ureterolithiasis, Urethritis, Urinary Bladder Haemorrhage, Urinary Bladder Rupture, Urinary Incontinence, Urinary Retention, Urinary Straining, Urinary Tract Disorder, Urinary Tract Infection, Urinary Tract Infection Bacterial, Urinary Tract Obstruction, Urobilinogen Urine, Urogenital Fistula, Vaginal Discharge, Vaginal Infection, Vaginal Ulceration, Vasculitis, Vasodilatation, Venous Injury, Venous Stenosis, Ventricular Dysfunction, Ventricular Fibrillation, Ventricular Hypokinesia, Volvulus, Vulval Disorder, Vulvovaginal Burning Sensation, Vulvovaginal Pruritus, Water Intoxication, Wound Drainage, Wound Secretion\n",
      "\n",
      "\u001b[32mCategory 7:\u001b[0m\n",
      "Administration Site Extravasation, Administration Site Swelling, Alanine Aminotransferase Increased, Alpha Hydroxybutyrate Dehydrogenase Increased, Alpha-L-Fucosidase Increased, Ammonia Increased, Amylase Increased, Aspartate Aminotransferase Increased, B-Lymphocyte Count Increased, Basophil Count Increased, Beta 2 Microglobulin Increased, Bile Acids Increased, Bilirubin Conjugated Increased, Blood Alkaline Phosphatase Increased, Blood Beta-D-Glucan Increased, Blood Bilirubin Increased, Blood Bilirubin Unconjugated Increased, Blood Calcium Increased, Blood Chloride Increased, Blood Cholesterol Increased, Blood Creatine Increased, Blood Creatine Phosphokinase Increased, Blood Creatinine Increased, Blood Electrolytes Increased, Blood Fibrinogen Increased, Blood Follicle Stimulating Hormone Increased, Blood Glucose Increased, Blood Hiv Rna Increased, Blood Immunoglobulin E Increased, Blood Iron Increased, Blood Lactate Dehydrogenase Increased, Blood Lactic Acid Increased, Blood Magnesium Increased, Blood Phosphorus Increased, Blood Pressure Diastolic Increased, Blood Pressure Increased, Blood Pressure Systolic Increased, Blood Sodium Increased, Blood Thyroid Stimulating Hormone Increased, Blood Triglycerides Increased, Blood Urea Increased, Blood Urea Nitrogen/Creatinine Ratio Increased, Blood Uric Acid Increased, Body Height Increased, Body Mass Index Increased, Body Temperature Increased, Brain Natriuretic Peptide Increased, C-Reactive Protein Increased, Capillary Permeability Increased, Carbohydrate Antigen 125 Increased, Carbohydrate Antigen 15-3 Increased, Carbohydrate Antigen 19-9 Increased, Carbohydrate Antigen 27.29 Increased, Carbon Dioxide Increased, Carcinoembryonic Antigen Increased, Cell Marker Increased, Coagulation Time Prolonged, Congestive Hepatopathy, Cytokine Increased, Disseminated Intravascular Coagulation, Electrocardiogram High Voltage, Energy Increased, Eosinophil Count Increased, Eosinophil Percentage Increased, Excessive Granulation Tissue, Extravasation, Fat Necrosis, Fat Tissue Increased, Fibrin D Dimer Increased, Fibrin Degradation Products Increased, Full Blood Count Increased, Gamma-Glutamyltransferase Increased, Globulins Increased, Glomerular Filtration Rate Increased, Glutamate Dehydrogenase Increased, Glycosylated Haemoglobin Increased, Haemoglobin Increased, Heart Rate Increased, Hepatic Enzyme Increased, Hepatitis C Rna Increased, Hepatotoxicity, Human Chorionic Gonadotropin Increased, Immunoglobulins Increased, Increased Appetite, Infection Susceptibility Increased, Infusion Site Extravasation, Infusion Site Swelling, Injection Site Extravasation, Interleukin-2 Receptor Increased, International Normalised Ratio Increased, Intracranial Pressure Increased, Kl-6 Increased, Lacrimation Increased, Large Intestine Perforation, Libido Increased, Lipase Increased, Local Swelling, Lymphocyte Count Increased, Lymphocyte Percentage Increased, Mean Cell Haemoglobin Concentration Increased, Mean Cell Haemoglobin Increased, Mean Cell Volume Increased, Mean Platelet Volume Increased, Mediastinal Mass, Monocyte Count Increased, Monocyte Percentage Increased, N-Terminal Prohormone Brain Natriuretic Peptide Increased, Neutrophil Count Increased, Neutrophil Percentage Increased, Overweight, Pancreatic Enzymes Increased, Platelet Count Increased, Portal Vein Pressure Increased, Procalcitonin Increased, Protein Total Increased, Red Blood Cell Count Increased, Red Blood Cell Sedimentation Rate Increased, Red Cell Distribution Width Increased, Reticulocyte Count Increased, Serum Ferritin Increased, Superinfection, Surfactant Protein Increased, Therapeutic Response Increased, Thyroxine Increased, Total Cholesterol/Hdl Ratio Increased, Transaminases Increased, Transfusion-Related Circulatory Overload, Tri-Iodothyronine Increased, Troponin I Increased, Troponin Increased, Weight Increased, White Blood Cell Count Increased\n",
      "\n",
      "\u001b[32mCategory 8:\u001b[0m\n",
      "Acute Kidney Injury, Biopsy Liver Abnormal, Blood Stem Cell Transplant Failure, Cholestatic Liver Injury, Chronic Graft Versus Host Disease In Liver, Chronic Kidney Disease, Creatinine Renal Clearance Decreased, Drug-Induced Liver Injury, Haemangioma Of Liver, Kidney Congestion, Kidney Duplex, Kidney Infection, Liver Abscess, Liver Disorder, Liver Function Test Abnormal, Liver Function Test Increased, Liver Injury, Liver Scan Abnormal, Liver Transplant Rejection, Metabolic Disorder, Metabolic Dysfunction-Associated Liver Disease, Metabolic Encephalopathy, Metastases To Liver, Mixed Liver Injury, Multi-Organ Failure, Non-Alcoholic Fatty Liver, Oedematous Kidney, Organ Failure, Renal Artery Arteriosclerosis, Renal Colic, Renal Cyst, Renal Disorder, Renal Failure, Renal Failure Acute, Renal Failure Chronic, Renal Function Test Abnormal, Renal Impairment, Renal Injury, Renal Mass, Renal Pain, Renal Replacement Therapy, Renal Tubular Acidosis, Renal Tubular Atrophy, Renal Tubular Disorder, Renal Tubular Dysfunction, Renal Tubular Injury, Renal Tubular Necrosis, Steroid Diabetes, Traumatic Liver Injury, Venoocclusive Liver Disease, Vitamin B12 Deficiency\n",
      "\n",
      "\u001b[32mCategory 9:\u001b[0m\n",
      "Abortion, Abortion Induced, Abortion Spontaneous, Benign Breast Neoplasm, Breast Abscess, Breast Calcifications, Breast Cancer, Breast Cancer Female, Breast Cancer Metastatic, Breast Cancer Recurrent, Breast Cancer Stage Iv, Breast Cellulitis, Breast Conserving Surgery, Breast Discharge, Breast Disorder, Breast Enlargement, Breast Haemorrhage, Breast Inflammation, Breast Injury, Breast Mass, Breast Neoplasm, Breast Oedema, Breast Operation, Breast Pain, Breast Reconstruction, Breast Swelling, Breast Tenderness, Breast Ulceration, Exposure During Pregnancy, Foetal Exposure During Pregnancy, Her-2 Positive Breast Cancer, Her2 Negative Breast Cancer, Her2 Positive Breast Cancer, Hormone Receptor Positive Breast Cancer, Infertility Female, Inflammatory Carcinoma Of The Breast, Intraductal Proliferative Breast Lesion, Invasive Breast Carcinoma, Invasive Ductal Breast Carcinoma, Invasive Lobular Breast Carcinoma, Maternal Exposure Before Pregnancy, Maternal Exposure During Pregnancy, Maternal Exposure Timing Unspecified, Metastases To Breast, Ovarian Cancer, Ovarian Cyst, Ovarian Disorder, Ovarian Enlargement, Ovarian Failure, Ovarian Mass, Pregnancy, Premature Baby, Premature Separation Of Placenta, Triple Negative Breast Cancer, Ultrasound Breast Abnormal\n",
      "\n",
      "\u001b[32mCategory 10:\u001b[0m\n",
      "Acne Pustular, Acute Interstitial Pneumonitis, Acute Leukaemia, Acute Promyelocytic Leukaemia, Adrenal Insufficiency, Adrenal Mass, Amenorrhoea, Amniorrhoea, Anaemia, Anaemia Macrocytic, Anaphylactic Reaction, Anaphylactoid Shock, Anhedonia, Anosmia, Aphasia, Aplastic Anaemia, Areflexia, Arrhythmia, Asphyxia, Bowel Movement Irregularity, Bronchial Disorder, Burnout Syndrome, Cholelithiasis, Cholestasis, Circulatory Collapse, Congenital Aplasia, Congenital Hypothyroidism, Cryoglobulinaemia, Cystitis, Defaecation Urgency, Diabetic Gangrene, Diabetic Nephropathy, Diaphragmalgia, Diaphragmatic Disorder, Diastolic Dysfunction, Dysaesthesia, Dysarthria, Dyscalculia, Dyschezia, Dysdiadochokinesis, Dysgeusia, Dysgraphia, Dyshidrotic Eczema, Dyskinesia, Dyslalia, Dysmenorrhoea, Dyspareunia, Dyspepsia, Dysphagia, Dysphemia, Dysphonia, Dyspnoea, Dyspnoea Exertional, Dysstasia, Dystonia, Dysuria, Early Onset Primary Dystonia, Ecchymosis, Electrocardiogram St Segment Depression, Emphysema, Encephalitis, Endotracheal Intubation Complication, Eosinophilia, Eosinophilic Oesophagitis, Epicondylitis, Epilepsy, Face Oedema, Faeces Hard, Febrile Neutropenia, Gangrene, Generalised Oedema, Haemodynamic Instability, Hemihypoaesthesia, Hernia, Horner^S Syndrome, Hyperleukocytosis, Hypersensitivity Pneumonitis, Hypoaesthesia, Hypofibrinogenaemia, Hypoglycaemia, Hypogonadism, Hypohidrosis, Hypokalaemia, Hypomagnesaemia, Hyponatraemia, Hypophagia, Hypophosphataemia, Hypoproteinaemia, Hyposplenism, Hypotension, Hypothalamo-Pituitary Disorder, Hypothermia, Hypothyroidism, Hypovolaemia, Hypovolaemic Shock, Hypoxia, Idiopathic Thrombocytopenic Purpura, Infectious Pleural Effusion, Ischaemia, Jaundice Cholestatic, Laryngeal Dyspnoea, Leukaemia, Leukaemia Recurrent, Listeria Encephalitis, Malignant Ascites, Metastases To Meninges, Metastasis, Middle Insomnia, Musculoskeletal Disorder, Myopia, Nasal Crusting, Nephritis, Nephrolithiasis, Nephrotic Syndrome, Neutropenia, Neutropenic Infection, Neutrophilia, Nosocomial Infection, Nystagmus, Obstructive Nephropathy, Oedema, Orthostatic Hypotension, Peptic Ulcer, Periodontal Disease, Periorbital Oedema, Peritoneal Disorder, Petit Mal Epilepsy, Pharyngitis, Pleural Disorder, Pneumatosis, Pneumonitis, Pneumoperitoneum, Pneumothorax, Pneumothorax Spontaneous, Premature Delivery, Premature Menopause, Prerenal Failure, Pseudocirrhosis, Pyelitis, Pyelonephritis, Radiation Pneumonitis, Scintillating Scotoma, Second Primary Malignancy, Splenic Cyst, Sputum Discoloured, Status Epilepticus, Tardive Dyskinesia, Transient Ischaemic Attack, Typhoid Fever, Vestibular Disorder\n",
      "\n",
      "\u001b[32mCategory 11:\u001b[0m\n",
      "Acute Motor Axonal Neuropathy, Acute Motor-Sensory Axonal Neuropathy, Arnold-Chiari Malformation, Atonic Seizures, Autonomic Nervous System Imbalance, Autonomic Neuropathy, Axonal Neuropathy, Bell^S Palsy, Brain Abscess, Brain Compression, Brain Contusion, Brain Death, Brain Herniation, Brain Injury, Brain Midline Shift, Brain Neoplasm, Brain Oedema, Brain Operation, Brain Stem Haemorrhage, Brain Stem Infarction, Bulbar Palsy, Central Nervous System Haemorrhage, Central Nervous System Infection, Central Nervous System Injury, Central Nervous System Lesion, Central Nervous System Lymphoma, Central Nervous System Necrosis, Central Nervous System Neoplasm, Central Nervous System Vasculitis, Cerebellar Atrophy, Cerebellar Cyst, Cerebellar Infarction, Cerebellar Syndrome, Cerebral Arteriosclerosis, Cerebral Aspergillosis, Cerebral Ataxia, Cerebral Atrophy, Cerebral Disorder, Cerebral Haematoma, Cerebral Ischaemia, Cerebral Mass Effect, Cerebral Microhaemorrhage, Cerebral Palsy, Cerebral Radiation Injury, Cholinergic Syndrome, Corneal Disorder, Corneal Epithelial Wrinkling, Corneal Lesion, Corneal Oedema, Corneal Opacity, Corneal Toxicity, Cranial Nerve Disorder, Cranial Nerve Paralysis, Deafness, Deafness Bilateral, Defect Conduction Intraventricular, Diabetic Neuropathy, Diffuse Alveolar Damage, Ear Congestion, Ear Disorder, Ear Haemorrhage, Ear Infection, Ear Pain, Ear Pruritus, Electrocardiogram T Wave Inversion, Embolic Cerebral Infarction, Enteric Neuropathy, Erythema Of Eyelid, Eye Disorder, Eye Haemorrhage, Eye Movement Disorder, Eye Oedema, Eyelid Disorder, Eyelid Oedema, Fine Motor Skill Dysfunction, Foreign Body Sensation In Eyes, Generalised Tonic-Clonic Seizure, Gingival Disorder, Gingival Pain, Glomerulonephropathy, Glossopharyngeal Nerve Paralysis, Hallucination, Auditory, Hallucination, Visual, Humoral Immune Defect, Hypotonia, Iga Nephropathy, Iiird Nerve Paralysis, Immune Effector Cell-Associated Neurotoxicity Syndrome, Immune System Disorder, Intellectual Disability, Judgement Impaired, Limbal Stem Cell Deficiency, Loss Of Libido, Metastases To Central Nervous System, Metastases To Nervous System, Metastases To Spinal Cord, Motor Dysfunction, Nervous System Disorder, Nervous System Neoplasm, Neuralgia, Neurodegenerative Disorder, Neurological Decompensation, Neurological Symptom, Neuroma, Neuromuscular Toxicity, Neuropathy Peripheral, Neurotoxicity, Occipital Neuralgia, Ocular Icterus, Ocular Toxicity, Oedema Peripheral, Olfactory Dysfunction, Optic Nerve Disorder, Optic Neuritis, Optic Neuropathy, Osteonecrosis Of External Auditory Canal, Paralysis Recurrent Laryngeal Nerve, Peripheral Motor Neuropathy, Peripheral Nerve Injury, Peripheral Nerve Lesion, Peripheral Nerve Palsy, Peripheral Sensorimotor Neuropathy, Peripheral Sensory Neuropathy, Polyneuropathy, Psychomotor Retardation, Psychomotor Skills Impaired, Pupillary Disorder, Retinal Cyst, Retinal Disorder, Retinal Tear, Retinal Vascular Disorder, Sciatic Nerve Neuropathy, Sensory Disturbance, Sensory Loss, Serotonin Syndrome, Sjogren^S Syndrome, Speech Sound Disorder, Spinal Cord Infection, Spinal Cord Neoplasm, Spinal Disorder, Sudden Hearing Loss, Swelling Of Eyelid, Trance, Trigeminal Neuralgia, Trunk Injury, Vasogenic Cerebral Oedema, Viith Nerve Paralysis, Vith Nerve Paralysis, Vocal Cord Disorder, Vocal Cord Dysfunction, Vocal Cord Paralysis\n",
      "\n",
      "\u001b[32mCategory 12:\u001b[0m\n",
      "Cachexia, Conjunctival Hyperaemia, Diabetic Hyperosmolar Coma, Excessive Eye Blinking, Gingival Swelling, Hallucination, Hyperacusis, Hyperaemia, Hyperaesthesia, Hyperammonaemia, Hyperbilirubinaemia, Hypercalcaemia, Hypercalcaemia Of Malignancy, Hypercapnia, Hyperchlorhydria, Hypercholesterolaemia, Hypercreatininaemia, Hyperglycaemia, Hyperglycaemic Hyperosmolar Nonketotic Syndrome, Hyperhidrosis, Hyperkalaemia, Hyperkeratosis, Hyperlactacidaemia, Hyperlipidaemia, Hypermetabolism, Hypermetropia, Hypernatraemia, Hyperphagia, Hyperphosphataemia, Hyperplasia, Hyperproteinaemia, Hyperpyrexia, Hyperreflexia, Hypersensitivity, Hypersensitivity Vasculitis, Hypersomnia, Hypersplenism, Hypertension, Hypertensive Crisis, Hyperthermia, Hyperthyroidism, Hypertransaminasaemia, Hypertriglyceridaemia, Hyperuricaemia, Hyperventilation, Hypervitaminosis D, Hypervolaemia, Infusion Related Hypersensitivity Reaction, Infusion Site Hypersensitivity, Injection Site Hypersensitivity, Mania, Ocular Hyperaemia, Portal Hypertension, Portal Hypertensive Gastropathy, Psychomotor Hyperactivity, Type I Hypersensitivity, Type Iv Hypersensitivity Reaction\n",
      "\n",
      "\u001b[32mCategory 13:\u001b[0m\n",
      "Alanine Aminotransferase Decreased, Albumin Globulin Ratio Decreased, Antithrombin Iii Decreased, Aspartate Aminotransferase Decreased, Blood Albumin Decreased, Blood Bicarbonate Decreased, Blood Bilirubin Decreased, Blood Calcium Decreased, Blood Chloride Decreased, Blood Cholinesterase Decreased, Blood Creatinine Decreased, Blood Electrolytes Decreased, Blood Fibrinogen Decreased, Blood Glucose Decreased, Blood Immunoglobulin A Decreased, Blood Immunoglobulin G Decreased, Blood Immunoglobulin M Decreased, Blood Iron Decreased, Blood Lactate Dehydrogenase Decreased, Blood Magnesium Decreased, Blood Phosphorus Decreased, Blood Potassium Decreased, Blood Pressure Decreased, Blood Pressure Diastolic Decreased, Blood Pressure Systolic Decreased, Blood Sodium Decreased, Blood Thyroid Stimulating Hormone Decreased, Blood Urea Decreased, Blood Uric Acid Decreased, Body Height Decreased, Body Mass Index Decreased, Body Surface Area Decreased, Body Temperature Decreased, C-Reactive Protein Decreased, Cardiac Output Decreased, Cd19 Lymphocytes Decreased, Cd4 Lymphocytes Decreased, Decreased Activity, Decreased Gait Velocity, Decreased Immune Responsiveness, Discontinued Product Administered, Ejection Fraction Decreased, Electrolyte Depletion, Eosinophil Count Decreased, Epidermal Growth Factor Receptor Decreased, Exercise Tolerance Decreased, Fluid Intake Reduced, Forced Expiratory Volume Decreased, Full Blood Count Decreased, Gastric Ph Decreased, Glomerular Filtration Rate Decreased, Granulocyte Count Decreased, Granulocyte-Colony Stimulating Factor Level Decreased, Haematocrit Decreased, Haemoglobin Decreased, Heart Rate Decreased, Hepatic Enzyme Decreased, Hiatus Hernia, High Density Lipoprotein Decreased, Immunoglobulins Decreased, Lacrimation Decreased, Libido Decreased, Lung Diffusion Test Decreased, Lymphocyte Count Decreased, Lymphocyte Percentage Decreased, Mean Cell Haemoglobin Concentration Decreased, Mean Cell Haemoglobin Decreased, Mean Cell Volume Decreased, Mean Platelet Volume Decreased, Monocyte Count Decreased, Neutrophil Count Decreased, Neutrophil Percentage Decreased, Oxygen Saturation Decreased, Pco2 Decreased, Peak Expiratory Flow Rate Decreased, Peripheral Pulse Decreased, Platelet Aggregation Decreased, Platelet Count Decreased, Po2 Decreased, Protein Total Decreased, Prothrombin Time Ratio Decreased, Pulmonary Function Test Decreased, Red Blood Cell Count Decreased, Respiratory Rate Decreased, Right Ventricular Ejection Fraction Decreased, Serum Ferritin Decreased, Specific Gravity Urine Decreased, Therapeutic Product Effect Decreased, Therapeutic Response Decreased, Therapy Cessation, Thyroid Hormones Decreased, Transaminases Decreased, Transferrin Saturation Decreased, Tumour Marker Decreased, Urine Output Decreased, Vitamin D Decreased, Weight Decreased, White Blood Cell Count Decreased\n",
      "\n",
      "\u001b[32mCategory 14:\u001b[0m\n",
      "Abnormal Behaviour, Abnormal Faeces, Abnormal Loss Of Weight, Abnormal Menstrual Clots, Abnormal Weight Gain, Acid Base Balance Abnormal, Alanine Aminotransferase Abnormal, Aspartate Aminotransferase Abnormal, Aspiration Tracheal Abnormal, Biopsy Bone Marrow Abnormal, Blood Alkaline Phosphatase Abnormal, Blood Bilirubin Abnormal, Blood Calcium Abnormal, Blood Count Abnormal, Blood Creatinine Abnormal, Blood Disorder, Blood Glucose Abnormal, Blood Lactate Dehydrogenase Abnormal, Blood Magnesium Abnormal, Blood Potassium Abnormal, Blood Pressure Abnormal, Blood Pressure Diastolic Abnormal, Blood Pressure Systolic Abnormal, Blood Sodium Abnormal, Blood Test Abnormal, Blood Thyroid Stimulating Hormone Abnormal, Body Temperature Abnormal, Brain Scan Abnormal, Breath Sounds Abnormal, C-Reactive Protein Abnormal, Cardiac Function Test Abnormal, Cd8 Lymphocytes Abnormal, Chest Scan Abnormal, Chest X-Ray Abnormal, Coagulation Factor Viii Level Abnormal, Computerised Tomogram Abnormal, Computerised Tomogram Thorax Abnormal, Coordination Abnormal, Csf Lymphocyte Count Abnormal, Eastern Cooperative Oncology Group Performance Status Abnormal, Echocardiogram Abnormal, Ejection Fraction Abnormal, Electrocardiogram Abnormal, Electrocardiogram Qt Interval Abnormal, Electrocardiogram St-T Segment Abnormal, Full Blood Count Abnormal, Gamma-Glutamyltransferase Abnormal, General Physical Condition Abnormal, Granulocytes Abnormal, Haematology Test Abnormal, Haemoglobin Abnormal, Hair Growth Abnormal, Hair Growth Rate Abnormal, Hair Texture Abnormal, Haptoglobin Abnormal, Heart Rate Abnormal, Heart Rate Irregular, Heart Sounds Abnormal, Herpes Virus Test Abnormal, High Density Lipoprotein Abnormal, Investigation Abnormal, Iron Deficiency, Laboratory Test Abnormal, Lymph Nodes Scan Abnormal, Lymphocyte Morphology Abnormal, Magnetic Resonance Imaging Abnormal, Mammogram Abnormal, Neutrophil Count Abnormal, Neutrophil Morphology Abnormal, Nuclear Magnetic Resonance Imaging Brain Abnormal, Nutritional Condition Abnormal, Oestradiol Abnormal, Oxygen Saturation Abnormal, Platelet Aggregation Abnormal, Platelet Count Abnormal, Positron Emission Tomogram Abnormal, Pulmonary Function Test Abnormal, Red Blood Cell Count Abnormal, Red Blood Cell Morphology Abnormal, Scan Abnormal, Sensory Level Abnormal, Thyroid Function Test Abnormal, Thyroxine Abnormal, Transaminases Abnormal, Tumour Marker Abnormal, Ultrasound Abdomen Abnormal, Urine Abnormality, Urine Analysis Abnormal, Urine Odour Abnormal, Vital Functions Abnormal, Weight Abnormal, White Blood Cell Count Abnormal\n",
      "\n",
      "\u001b[32mCategory 15:\u001b[0m\n",
      "Adverse Event, Adverse Reaction, Aggression, Agitation, Allergic Cough, Anal Incontinence, Anaphylactic Shock, Anger, Anorectal Discomfort, Anxiety, Blister, Blood Blister, Body Temperature Fluctuation, Burning Sensation, Butterfly Rash, Chest Discomfort, Chest Pain, Chills, Choking, Choking Sensation, Clonic Convulsion, Clumsiness, Cold Sweat, Condition Aggravated, Confabulation, Confusional State, Constipation, Convulsion, Cough, Crying, Delirium, Delusion, Diaphragmatic Spasm, Diarrhoea, Discomfort, Disorganised Speech, Distributive Shock, Drooling, Dysphoria, Emotional Distress, Facial Discomfort, Faecal Incontinence, Fear, Fear Of Disease, Febrile Convulsion, Feeling Abnormal, Feeling Cold, Feeling Hot, Feeling Jittery, Feeling Of Despair, Fistula, Glassy Eyes, Gout, Grand Mal Convulsion, Groin Pain, Head Discomfort, Headache, Heat Illness, Hiccups, Ill-Defined Disorder, Incoherent, Incontinence, Insomnia, Intrusive Thoughts, Irritability, Lip Swelling, Malaise, Measles, Menstruation Delayed, Mouth Injury, Mouth Swelling, Mouth Ulceration, Musculoskeletal Discomfort, Mutism, Nasal Discomfort, Nausea, Nephropathy Toxic, Nervousness, Nightmare, Obstruction, Ocular Discomfort, Orthostatic Intolerance, Panic Attack, Poisoning, Procedural Anxiety, Procedural Nausea, Productive Cough, Rash, Rash Erythematous, Rash Generalised, Rash Macular, Rash Papular, Rash Pruritic, Rash Pustular, Rash Vesicular, Restlessness, Retching, Screaming, Shock, Sinus Headache, Skin Swelling, Skin Tightness, Skin Weeping, Sneezing, Sudden Death, Swelling, Swelling Face, Swollen Tongue, Temperature Intolerance, Throat Clearing, Throat Irritation, Throat Tightness, Tongue Discolouration, Tongue Discomfort, Tongue Disorder, Tongue Ulceration, Toxic Neuropathy, Tricuspid Valve Incompetence, Unwanted Awareness During Anaesthesia, Vomiting, Vomiting Projectile, Vulvovaginal Discomfort, Wheezing, Wrong Schedule\n",
      "\n",
      "\u001b[32mCategory 16:\u001b[0m\n",
      "Abdominal Lymphadenopathy, Acute Polyneuropathy, Angina Pectoris, Angioedema, Angiopathy, Aortic Aneurysm, Aortic Arteriosclerosis, Aortic Dissection, Aortic Stenosis, Aortic Valve Prolapse, Aortic Valve Sclerosis, Appendicectomy, Arteriosclerosis, Arteritis, Atrial Thrombosis, Axillary Vein Thrombosis, Basal Ganglia Infarction, Basal Ganglia Stroke, Brachial Plexopathy, Brachiocephalic Vein Thrombosis, Bronchopneumopathy, Bronchospasm, Brucellosis, Carotid Endarterectomy, Cerebral Thrombosis, Cerebrovascular Accident, Craniocerebral Injury, Crest Syndrome, Critical Illness Polyneuropathy, Cutaneous Vasculitis, Deep Vein Thrombosis, Device Related Thrombosis, Encephalomyelitis, Encephalopathy, Epidermolysis Bullosa, Erectile Dysfunction, Erosive Oesophagitis, Eyelid Ptosis, Facial Paresis, Fibroma, Fibromyalgia, Focal Nodular Hyperplasia, Gastrectomy, Gastric Neoplasm, Genito-Pelvic Pain/Penetration Disorder, Hepatectomy, Hereditary Angioedema, Hippocampal Sclerosis, Hypoglossal Nerve Paresis, Hysterectomy, Hysterosalpingo-Oophorectomy, Ileostomy, Iliac Artery Arteriosclerosis, Implant Site Oedema, Incarcerated Umbilical Hernia, Inguinal Hernia, Injection Site Thrombosis, Intervertebral Discitis, Intracranial Aneurysm, Knee Arthroplasty, Laryngeal Injury, Laryngeal Oedema, Laryngitis, Laryngospasm, Limbic Encephalitis, Localised Oedema, Mechanical Ileus, Mesenteric Vein Thrombosis, Metastases To Pelvis, Metastases To Pituitary Gland, Mitral Valve Prolapse, Myalgia, Mycosis Fungoides Stage Ii, Nodular Regenerative Hyperplasia, Oedema Genital, Oesophageal Compression, Oesophageal Obstruction, Oesophageal Pain, Oesophageal Prosthesis Insertion, Oesophageal Stenosis, Oophorectomy Bilateral, Open Angle Glaucoma, Ophthalmoplegia, Oropharyngeal Pain, Osteitis, Osteoarthritis, Osteolysis, Osteomyelitis, Osteomyelitis Chronic, Osteonecrosis, Osteopenia, Osteoporosis, Osteorrhagia, Osteosclerosis, Otitis Externa, Otitis Media, Otorrhoea, Ototoxicity, Paresis, Pelvic Abscess, Pelvic Venous Thrombosis, Pericardial Excision, Periodontitis, Peroneal Nerve Injury, Peroneal Nerve Palsy, Petechiae, Pharyngeal Injury, Pharyngeal Oedema, Pharyngeal Ulceration, Pleural Fibrosis, Portal Vein Thrombosis, Post Herpetic Neuralgia, Postinfarction Angina, Prinzmetal Angina, Proctitis, Proteus Infection, Purtscher Retinopathy, Pyelonephritis Acute, Rectal Abscess, Retinitis, Retinopathy, Retroperitoneal Fibrosis, Secondary Adrenocortical Insufficiency, Spinal Osteoarthritis, Subclavian Vein Stenosis, Subclavian Vein Thrombosis, Superior Vena Cava Syndrome, Surgery, Terminal Ileitis, Thoracic Vertebral Fracture, Thrombosis, Thrombosis In Device, Tracheal Stenosis, Tracheostomy, Umbilical Hernia, Umbilical Hernia Repair, Uterine Leiomyoma, Uterine Leiomyoma Calcification, Varices Oesophageal, Vena Cava Thrombosis, Venous Thrombosis, Venous Thrombosis Limb, Vertebral Lesion, Vertebroplasty, Viith Nerve Injury\n",
      "\n",
      "\u001b[32mCategory 17:\u001b[0m\n",
      "Abnormal Dreams, Acute Psychosis, Adjustment Disorder With Depressed Mood, Adrenal Disorder, Affective Disorder, Alcoholic Seizure, Altered Pitch Perception, Altered State Of Consciousness, Amnesia, Anorectal Disorder, Anterograde Amnesia, Anxiety Disorder, Appetite Disorder, Balance Disorder, Behaviour Disorder, Bipolar Disorder, Blunted Affect, Brain Fog, Cardiomegaly, Cognitive Disorder, Coma, Coma Scale Abnormal, Communication Disorder, Consciousness Fluctuating, Conversion Disorder, Defaecation Disorder, Dementia, Dementia Alzheimer^S Type, Depersonalisation/Derealisation Disorder, Depressed Level Of Consciousness, Depressed Mood, Depression, Depressive Symptom, Disability, Disturbance In Attention, Dizziness, Dizziness Postural, Eating Disorder, Eating Disorder Symptom, Emotional Disorder, Euphoric Mood, Feeding Disorder, Flashback, Gait Disturbance, Gingival Recession, Hair Colour Changes, Hair Disorder, Hyporesponsive To Stimuli, Illness Anxiety Disorder, Impaired Driving Ability, Jaundice, Juvenile Idiopathic Arthritis, Lacrimal Disorder, Language Disorder, Magnesium Metabolism Disorder, Major Depression, Malnutrition, Mastication Disorder, Memory Impairment, Mental Disorder, Mental Fatigue, Mental Impairment, Mental Status Changes, Micturition Disorder, Migraine, Migraine With Aura, Mood Altered, Mood Swings, Movement Disorder, Nephropathy, Obesity, Paranoia, Parkinson^S Disease, Parkinsonism, Partial Seizures, Personality Change, Photophobia, Pigmentation Disorder, Platelet Disorder, Post-Traumatic Stress Disorder, Psychiatric Symptom, Psychogenic Seizure, Psychological Trauma, Psychotic Disorder, Reading Disorder, Recall Phenomenon, Refraction Disorder, Road Traffic Accident, Seizure, Seizure Like Phenomena, Selective Eating Disorder, Sense Of Oppression, Sleep Apnoea Syndrome, Sleep Disorder, Social Anxiety Disorder, Social Problem, Speech Disorder, Speech Latency, Substance-Induced Psychotic Disorder, Suicidal Ideation, Taste Disorder, Thinking Abnormal, Vertigo, Vertigo Positional, Visual Impairment, Vitamin D Deficiency, Walking Disability, Weight Fluctuation, Withdrawal Syndrome\n",
      "\n",
      "\u001b[32mCategory 18:\u001b[0m\n",
      "Accidental Overdose, Adverse Drug Reaction, Alcohol Use, Binge Drinking, Circumstance Or Information Capable Of Leading To Medication Error, Clinical Trial Participant, Contraindicated Product Administered, Dose Calculation Error, Drug Administration Error, Drug Dispensed To Wrong Patient, Drug Dispensing Error, Drug Diversion, Drug Dose Omission, Drug Effect Decreased, Drug Effect Incomplete, Drug Effect Increased, Drug Effect Less Than Expected, Drug Effective For Unapproved Indication, Drug Eruption, Drug Hypersensitivity, Drug Ineffective, Drug Ineffective For Unapproved Indication, Drug Interaction, Drug Intolerance, Drug Level Increased, Drug Reaction With Eosinophilia And Systemic Symptoms, Drug Resistance, Drug Resistance Mutation, Drug Tolerance, Drug Tolerance Decreased, Drug-Device Incompatibility, Expired Product Administered, Extra Dose Administered, Inappropriate Antidiuretic Hormone Secretion, Inappropriate Schedule Of Drug Administration, Incorrect Dosage Administered, Incorrect Dose Administered, Incorrect Drug Administration Rate, Incorrect Product Dosage Form Administered, Incorrect Route Of Drug Administration, Insurance Issue, Intentional Dose Omission, Intentional Overdose, Intercepted Medication Error, Medication Error, Overdose, Paravenous Drug Administration, Poor Quality Drug Administered, Prescribed Overdose, Product Administered To Patient Of Inappropriate Age, Product Dose Omission, Product Dose Omission In Error, Product Dose Omission Issue, Rehabilitation Therapy, Seasonal Allergy, Substance Abuse, Substance Use, Therapeutic Product Effect Incomplete, Therapeutic Product Effect Variable, Therapeutic Product Ineffective, Therapeutic Product Ineffective For Unapproved Indication, Therapeutic Response Delayed, Therapeutic Response Unexpected, Therapy Change, Therapy Interrupted, Therapy Non-Responder, Therapy Partial Responder, Therapy Responder, Toxicity To Various Agents, Treatment Delayed, Treatment Failure, Wrong Technique In Drug Usage Process\n",
      "\n",
      "\u001b[32mCategory 19:\u001b[0m\n",
      "Acute Coronary Syndrome, Acute Hepatic Failure, Acute Myocardial Infarction, Aortic Valve Disease, Aortic Valve Incompetence, Aortic Valve Stenosis, Arterial Disorder, Arteriosclerosis Coronary Artery, Arteriospasm Coronary, Blood Glucose Fluctuation, Blood Pressure Fluctuation, Blood Pressure Inadequately Controlled, Cardiac Arrest, Cardiac Death, Cardiac Disorder, Cardiac Dysfunction, Cardiac Failure, Cardiac Failure Acute, Cardiac Failure Chronic, Cardiac Failure Congestive, Cardiac Flutter, Cardiac Hypertrophy, Cardiac Murmur, Cardiac Tamponade, Cardiac Valve Disease, Cardiogenic Shock, Cardiomyopathy Acute, Cardiopulmonary Failure, Cardiovascular Disorder, Cardiovascular Insufficiency, Cardiovascular Symptom, Carotid Artery Stenosis, Cerebral Artery Embolism, Cerebral Artery Occlusion, Cerebral Infarction, Cerebral Venous Sinus Thrombosis, Cns Ventriculitis, Coma Hepatic, Congenital Cardiovascular Anomaly, Coronary Artery Disease, Coronary Artery Stenosis, Cystic Fibrosis, Device Infusion Issue, Diabetes Insipidus, Diabetes Mellitus, Diabetes Mellitus Inadequate Control, Diabetic Metabolic Decompensation, Dilated Cardiomyopathy, Electrocardiogram Pr Shortened, Embolism Arterial, Essential Hypertension, Fibrosis, Gastric Antral Vascular Ectasia, Gingival Bleeding, Heart Injury, Heart Valve Incompetence, Heart Valve Stenosis, Hepatic Adenoma, Hepatic Atrophy, Hepatic Calcification, Hepatic Cancer, Hepatic Cancer Recurrent, Hepatic Cirrhosis, Hepatic Congestion, Hepatic Cyst, Hepatic Cytolysis, Hepatic Dysplasia, Hepatic Encephalopathy, Hepatic Enzyme Abnormal, Hepatic Failure, Hepatic Fibrosis, Hepatic Function Abnormal, Hepatic Haematoma, Hepatic Haemorrhage, Hepatic Hypoperfusion, Hepatic Infection, Hepatic Lesion, Hepatic Mass, Hepatic Necrosis, Hepatic Pain, Hepatic Steatosis, Hypertrophic Cardiomyopathy, Idiopathic Intracranial Hypertension, Iliac Artery Occlusion, Immune Reconstitution Inflammatory Syndrome, Infective Pericardial Effusion, Jugular Vein Thrombosis, Left Ventricular Dysfunction, Left Ventricular Failure, Metabolic Dysfunction-Associated Steatohepatitis, Middle Cerebral Artery Stroke, Myocardial Infarction, Myocardial Ischaemia, Non-Alcoholic Steatohepatitis, Non-Cirrhotic Portal Hypertension, Ocular Vascular Disorder, Pericardial Effusion, Peripheral Artery Occlusion, Peripheral Artery Thrombosis, Peripheral Vein Occlusion, Portal Fibrosis, Portal Vein Dilatation, Postural Orthostatic Tachycardia Syndrome, Right Ventricular Dysfunction, Right Ventricular Enlargement, Right Ventricular Failure, Sensation Of Blood Flow, Spinal Cord Abscess, Spinal Cord Infarction, Sudden Cardiac Death, Supraventricular Tachycardia, Tachycardia, Tonic Clonic Movements, Tonic Convulsion, Transient Hepatic Attenuation Differences, Type 2 Diabetes Mellitus, Varicose Vein, Vascular Access Complication, Vascular Access Malfunction, Vascular Access Site Extravasation, Vascular Access Site Haemorrhage, Vascular Device Infection, Vascular Device Occlusion, Vascular Device User, Vascular Fragility, Vascular Operation, Vascular Pain, Vascular Pseudoaneurysm, Vascular Purpura, Vascular Rupture, Vascular Shunt, Vein Collapse, Vein Disorder, Vein Rupture, Ventricular Tachycardia, White Coat Hypertension\n",
      "\n",
      "\u001b[32mCategory 20:\u001b[0m\n",
      "Acarodermatitis, Acute Disseminated Encephalomyelitis, Acute Febrile Neutrophilic Dermatosis, Acute Generalised Exanthematous Pustulosis, Acute Lymphocytic Leukaemia, Adenoma Benign, Adenoviral Encephalitis, Adult T-Cell Lymphoma/Leukaemia Recurrent, Angiocentric Lymphoma, Angioimmunoblastic T-Cell Lymphoma Recurrent, Appendicitis Perforated, Atrophic Vulvovaginitis, Autoimmune Dermatitis, Axillary Lymphadenectomy, Biliary Sepsis, Blepharitis, Blood Loss Anaemia, Bronchial Carcinoma, Bronchopulmonary Aspergillosis, Bronchopulmonary Disease, Burkitt^S Lymphoma Recurrent, Catheter Site Erythema, Catheter Site Infection, Catheter Site Inflammation, Catheter Site Oedema, Central Serous Chorioretinopathy, Cholangitis, Cholangitis Acute, Cholangitis Infective, Cholangitis Sclerosing, Cholecystitis, Cholecystitis Acute, Cholecystitis Chronic, Cholecystitis Infective, Cholecystocholangitis, Chorioretinitis, Chronic Inflammatory Demyelinating Polyradiculoneuropathy, Chronic Lymphocytic Leukaemia, Chronic Lymphocytic Leukaemia Recurrent, Clostridial Infection, Clostridial Sepsis, Clostridium Colitis, Clostridium Difficile Colitis, Colitis Microscopic, Colon Adenoma, Conjunctivitis, Cutaneous Lupus Erythematosus, Cutaneous Lymphoma, Cutaneous T-Cell Lymphoma, Cutaneous T-Cell Lymphoma Recurrent, Cutaneous T-Cell Lymphoma Refractory, Cystitis Escherichia, Cytomegalovirus Chorioretinitis, Cytomegalovirus Pericarditis, Dactylitis, Demyelinating Polyneuropathy, Dermatitis, Dermatitis Acneiform, Dermatitis Allergic, Dermatitis Contact, Dermatitis Exfoliative, Dermatitis Exfoliative Generalised, Dermatitis Psoriasiform, Dermatopathic Lymphadenopathy, Dermatophytosis, Device Related Sepsis, Diaphragmatic Hernia, Disease Complication, Emergency Care, Endometriosis, Enterococcal Sepsis, Enteropathy-Associated T-Cell Lymphoma, Epidermal Necrosis, Epidermolysis, Epididymitis, Erythema, Erythema Induratum, Erythema Multiforme, Erythema Nodosum, Escherichia Infection, Escherichia Pyelonephritis, Escherichia Sepsis, Flap Necrosis, Follicular Lymphoma, Follicular Lymphoma Recurrent, Fungal Pharyngitis, Generalised Erythema, Gingival Erythema, Granulomatous Dermatitis, Grey Zone Lymphoma, Hand Dermatitis, Herpes Ophthalmic, Herpes Zoster Meningomyelitis, Hilar Lymphadenopathy, Hospitalisation, Hypoxic-Ischaemic Encephalopathy, Immunoblastic Lymphoma, Infective Spondylitis, Infective Thrombosis, Infusion Site Erythema, Infusion Site Inflammation, Injection Site Erythema, Intrapulmonary Lymphadenopathy, Iridocyclitis, Klebsiella Sepsis, Leukocytosis, Leukodystrophy, Leukoencephalopathy, Lymph Node Calcification, Lymph Node Pain, Lymph Node Palpable, Lymphadenectomy, Lymphadenitis, Lymphadenopathy, Lymphadenopathy Mediastinal, Lymphangiosis Carcinomatosa, Lymphangitis, Lymphatic Disorder, Lymphoedema, Lymphoma, Lymphoma Operation, Lymphoma Transformation, Lymphomatoid Papulosis, Lymphopenia, Lymphostasis, Malignant Lymphoid Neoplasm, Metastases To Lymph Nodes, Metastatic Lymphoma, Multiple Sclerosis, Mydriasis, Myelitis, Myelopathy, Myocardial Necrosis, Myopathy, Myositis, Necrosis, Necrotising Fasciitis Streptococcal, Neutropenic Sepsis, Neutrophilic Dermatosis, Onychomycosis, Ophthalmic Herpes Zoster, Paratracheal Lymphadenopathy, Pericarditis, Pericarditis Malignant, Periorbital Dermatitis, Peripheral T-Cell Lymphoma Unspecified, Peripheral T-Cell Lymphoma Unspecified Recurrent, Peripheral T-Cell Lymphoma Unspecified Refractory, Peripheral T-Cell Lymphoma Unspecified Stage Ii, Peripheral T-Cell Lymphoma Unspecified Stage Iv, Peritonitis, Pharyngitis Streptococcal, Pneumococcal Infection, Pneumococcal Sepsis, Postmastectomy Lymphoedema Syndrome, Postoperative Wound Complication, Postoperative Wound Infection, Punctate Keratitis, Radiculopathy, Radiotherapy, Retroperitoneal Lymphadenopathy, Sarcoidosis, Sclerema, Scleroderma, Sepsis, Severe Invasive Streptococcal Infection, Staphylococcal Sepsis, Stomatitis, Streptococcal Sepsis, Subacute Cutaneous Lupus Erythematosus, Subacute Endocarditis, Subcutaneous Emphysema, Superficial Inflammatory Dermatosis, Systemic Inflammatory Response Syndrome, Systemic Lupus Erythematosus, Systemic Lupus Erythematosus Rash, T-Cell Lymphoma, T-Cell Lymphoma Recurrent, T-Cell Lymphoma Stage Iv, Tachyarrhythmia, Thrombophlebitis, Thrombophlebitis Superficial, Thrombotic Microangiopathy, Toxic Epidermal Necrolysis, Toxoplasmosis, Vasculitic Rash\n",
      "\n",
      "\u001b[32mCategory 21:\u001b[0m\n",
      "Abscess Intestinal, Acute Graft Versus Host Disease In Intestine, Allergic Transfusion Reaction, Bile Duct Obstruction, Bile Duct Stone, Campylobacter Gastroenteritis, Chronic Gastritis, Chronic Graft Versus Host Disease In Intestine, Cytomegalovirus Gastroenteritis, Cytomegalovirus Gastrointestinal Infection, Cytomegalovirus Gastrointestinal Ulcer, Distal Intestinal Obstruction Syndrome, Diverticulum Intestinal, Diverticulum Intestinal Haemorrhagic, Ear, Nose And Throat Infection, Enteritis, Enteritis Infectious, Enterocolitis Infectious, Food Poisoning, Functional Gastrointestinal Disorder, Gas Gangrene, Gastric Atony, Gastric Disorder, Gastric Infection, Gastritis, Gastritis Erosive, Gastroenteritis, Gastroenteritis Clostridial, Gastroenteritis Escherichia Coli, Gastroenteritis Listeria, Gastroenteritis Salmonella, Gastroenteritis Viral, Gastrointestinal Bacterial Infection, Gastrointestinal Carcinoma, Gastrointestinal Disorder, Gastrointestinal Haemorrhage, Gastrointestinal Infection, Gastrointestinal Inflammation, Gastrointestinal Injury, Gastrointestinal Lymphoma, Gastrointestinal Motility Disorder, Gastrointestinal Mucosal Disorder, Gastrointestinal Necrosis, Gastrointestinal Neoplasm, Gastrointestinal Oedema, Gastrointestinal Pain, Gastrointestinal Perforation, Gastrointestinal Sounds Abnormal, Gastrointestinal Stoma Complication, Gastrointestinal Submucosal Tumour, Gastrointestinal Toxicity, Gastrointestinal Tract Adenoma, Gastrointestinal Tube Insertion, Gastrointestinal Ulcer, Gastrointestinal Wall Thickening, Gastrooesophageal Reflux Disease, Graft Versus Host Disease In Gastrointestinal Tract, Graft Versus Host Disease In Intestine, Intestinal Calcification, Intestinal Dilatation, Intestinal Haemorrhage, Intestinal Ischaemia, Intestinal Malrotation, Intestinal Metaplasia, Intestinal Metastasis, Intestinal Obstruction, Intestinal Perforation, Intestinal Polyp, Intestinal Sepsis, Intestinal Stenosis, Intestinal Ulcer, Large Intestinal Obstruction, Large Intestinal Stenosis, Large Intestinal Ulcer, Large Intestine Infection, Lower Gastrointestinal Haemorrhage, Malignant Gastrointestinal Obstruction, Metastases To Gastrointestinal Tract, Nasal Congestion, Nasal Mucosal Disorder, Obstruction Gastric, Oral Disorder, Oral Herpes, Oral Infection, Oral Mucosal Blistering, Oral Mucosal Erythema, Pneumatosis Intestinalis, Portal Tract Inflammation, Salivary Duct Obstruction, Small Intestinal Haemorrhage, Small Intestinal Obstruction, Small Intestinal Perforation, Small Intestinal Resection, Small Intestine Carcinoma, Throat Cancer, Upper Gastrointestinal Haemorrhage, Vanishing Bile Duct Syndrome\n",
      "\n",
      "\u001b[32mCategory 22:\u001b[0m\n",
      "Administration Site Bruise, Application Site Bruise, Aspiration Bone Marrow, Bone Atrophy, Bone Cancer, Bone Cancer Metastatic, Bone Demineralisation, Bone Density Decreased, Bone Disorder, Bone Erosion, Bone Formation Decreased, Bone Infarction, Bone Lesion, Bone Loss, Bone Marrow Disorder, Bone Marrow Failure, Bone Marrow Toxicity, Bone Marrow Transplant, Bone Neoplasm, Bone Operation, Bone Pain, Bone Swelling, Complications Of Bone Marrow Transplant, Dental Caries, Dental Fistula, Dental Operation, Enamel Anomaly, Exostosis Of Jaw, Exposed Bone In Jaw, Foot Deformity, Foot Fracture, Hand Deformity, Ingrowing Nail, Jaw Disorder, Loose Tooth, Metastases To Bone, Metastases To Bone Marrow, Mineral Deficiency, Nail Bed Disorder, Nail Bed Infection, Nail Bed Inflammation, Nail Discolouration, Nail Disorder, Nail Growth Abnormal, Nail Infection, Nail Injury, Nail Pigmentation, Nail Ridging, Nail Toxicity, Osteonecrosis Of Jaw, Pain In Jaw, Pathological Fracture, Scratch, Skeletal Injury, Skull Fracture, Tooth Abscess, Tooth Discolouration, Tooth Disorder, Tooth Extraction, Tooth Fracture, Tooth Infection, Tooth Loss, Tooth Socket Haemorrhage, Toothache\n",
      "\n",
      "\u001b[32mCategory 23:\u001b[0m\n",
      "Abdominal Abscess, Abdominal Adhesions, Abdominal Cavity Drainage, Abdominal Compartment Syndrome, Abdominal Distension, Abdominal Incarcerated Hernia, Abdominal Infection, Abdominal Mass, Abdominal Neoplasm, Abdominal Pain, Abdominal Pain Lower, Abdominal Pain Upper, Abdominal Rebound Tenderness, Abdominal Rigidity, Abdominal Sepsis, Abdominal Symptom, Abdominal Tenderness, Abdominal Wall Disorder, Acquired Diaphragmatic Eventration, Activated Partial Thromboplastin Time Prolonged, Acute Abdomen, Application Site Fissure, Aspiration Pleural Cavity, Atrial Fibrillation, Atrial Flutter, Atrial Septal Defect, Atrial Tachycardia, Atrioventricular Block, Atrioventricular Block Complete, Atrioventricular Block Second Degree, Axillary Mass, Blast Cells Present, Blast Injury, Cataract, Cataract Operation, Cataract Subcapsular, Catheter Placement, Catheter Site Extravasation, Catheter Site Swelling, Chest Wall Abscess, Chest Wall Mass, Chest Wall Resection, Ct Hypotension Complex, Deformity Thorax, Effusion, Electric Shock Sensation, Electrocardiogram Qt Prolonged, Eructation, Escherichia Test Positive, Exposure Via Direct Contact, Exposure Via Eye Contact, Extradural Abscess, Extradural Neoplasm, Extrasystoles, Eye Discharge, Eye Operation, Eye Pruritus, Eyelid Margin Crusting, Housebound, Imaging Procedure Artifact, Implant Site Extravasation, Implant Site Reaction, Intervertebral Disc Protrusion, Intra-Abdominal Fluid Collection, Intracranial Hypotension, Intracranial Mass, Jejunal Perforation, Left Atrial Enlargement, Lewis-Sumner Syndrome, Mass Excision, Metastases To Abdominal Cavity, Metastases To Adrenals, Metastases To Chest Wall, Metastases To Eye, Metastases To Peritoneum, Metastases To Pleura, Metastases To Retroperitoneum, Metastases To Stomach, Metastatic Neoplasm, Myelosuppression, Neoplasm Recurrence, Orbital Oedema, Oropharyngeal Blistering, Palpitations, Paraneoplastic Pleural Effusion, Pelvic Neoplasm, Perforation, Persecutory Delusion, Pleural Effusion, Pleural Neoplasm, Pleural Thickening, Pleurisy, Post Inflammatory Pigmentation Change, Post Procedural Infection, Postoperative Ileus, Pre-Eclampsia, Pre-Engraftment Immune Reaction, Pre-Existing Condition Improved, Procedural Site Reaction, Prolapse, Prostatomegaly, Prothrombin Time Prolonged, Radiation Injury, Rectal Fissure, Resuscitation, Retinal Deposits, Retinal Detachment, Retinal Exudates, Right Atrial Enlargement, Supraventricular Extrasystoles, Thoracic Operation, Tympanic Membrane Perforation, Unevaluable Investigation, Ventricular Extrasystoles, Wallerian Degeneration\n",
      "\n",
      "\u001b[32mCategory 24:\u001b[0m\n",
      "Abasia, Acidosis, Administration Site Reaction, Ageusia, Akathisia, Alopecia, Amblyopia, Amoebiasis, Anaphylactoid Reaction, Anisocoria, Anorectal Varices, Anorgasmia, Anuria, Apallic Syndrome, Aphagia, Aphonia, Aplasia, Apnoea, Apnoeic Attack, Apraxia, Arthralgia, Arthropathy, Arthropod Bite, Arthropod Sting, Artificial Menopause, Ascites, Aspiration, Asterixis, Asthenia, Asthenopia, Astigmatism, Ataxia, Atelectasis, Azotaemia, Barotrauma, Bartholinitis, Bicytopenia, Bradycardia, Bradyphrenia, Bronchopneumonia, Bundle Branch Block Left, Burning Feet Syndrome, Catatonia, Chalazion, Cheilitis, Chemical Burn, Chromaturia, Chylothorax, Coagulopathy, Coccydynia, Cornea Verticillata, Corneal Deposits, Corneal Exfoliation, Costochondritis, Crepitations, Crystal Arthropathy, Cyanosis, Cystitis Klebsiella, Cytopenia, Dacryostenosis Acquired, Demyelination, Diplegia, Diplopia, Disseminated Varicella, Diverticular Perforation, Early Satiety, Eastern Cooperative Oncology Group Performance Status, Ectropion, Eczema, Ejection Fraction, Embolic Stroke, Encephalomalacia, Endotracheal Intubation, Enuresis, Ephelides, Epistaxis, Epstein-Barr Viraemia, Erysipelas, Erythrosis, Euthanasia, Evans Syndrome, Fanconi Syndrome, Fasciitis, Febrile Infection, Flushing, Foix-Chavany-Marie Syndrome, Formication, Fournier^S Gangrene, Fungaemia, Furuncle, Gastroschisis, Genital Herpes, Genital Herpes Zoster, Giardiasis, Gilbert^S Syndrome, Gingival Operation, Goitre, Gynaecomastia, Haemangioma, Haematuria, Hemianopia, Hemianopia Homonymous, Hemiparesis, Hemiplegia, Henoch-Schonlein Purpura, Hepatomegaly, Hepatosplenomegaly, Her2 Gene Amplification, Herpes Simplex Oesophagitis, Herpes Simplex Reactivation, Herpes Zoster, Herpes Zoster Cutaneous Disseminated, Herpes Zoster Disseminated, Herpes Zoster Meningoencephalitis, Hip Arthroplasty, Hordeolum, Hypoacusis, Hypoalbuminaemia, Hypocalcaemia, Hypogeusia, Hypokinesia, Ileus, Induration, Keratitis, Keratopathy, Ketoacidosis, Lactic Acidosis, Leukopenia, Lichenoid Keratosis, Macule, Madarosis, Mallory-Weiss Syndrome, Marasmus, Mass, Mediastinitis, Mediastinum Neoplasm, Megacolon, Melaena, Melanocytic Naevus, Meningioma, Menorrhagia, Metabolic Acidosis, Metastases To The Mediastinum, Metatarsalgia, Metrorrhagia, Molluscum Contagiosum, Monocyte Percentage, Monoparesis, Monoplegia, Mucormycosis, Multimorbidity, Myasthenia Gravis, Mycosis Fungoides, Myoclonus, Nasopharyngitis, Neoplasm, Noninfective Sialoadenitis, Nuchal Rigidity, Odynophagia, Oesophagitis, Oliguria, Onychalgia, Onychoclasis, Onycholysis, Onychomadesis, Onychomalacia, Opsoclonus Myoclonus, Pancytopenia, Panniculitis, Papule, Papulopustular Rosacea, Paracentesis, Paraparesis, Paraplegia, Paronychia, Parosmia, Peau D^Orange, Pemphigus, Periarthritis, Periostitis, Phlebitis, Photopsia, Photosensitivity Reaction, Pinguecula, Pityriasis Lichenoides Et Varioliformis Acuta, Plantar Fasciitis, Pleurodesis, Pneumocentesis, Pneumocystis Jirovecii Infection, Pneumomediastinum, Pneumonitis Chemical, Pollakiuria, Polyarthritis, Polycythaemia, Polydipsia, Polyuria, Porokeratosis, Presyncope, Proctalgia, Prurigo, Pruritus, Pruritus Generalised, Pseudo Cushing^S Syndrome, Pseudocyst, Pseudopolyp, Psoriasis, Psoriatic Arthropathy, Purpura, Purpura Fulminans, Pyoderma, Pyrexia, Quadriparesis, Quadriplegia, Rales, Rectal Tenesmus, Rhabdomyolysis, Rhinorrhoea, Rhonchi, Rubella, Sarcoid-Like Reaction, Sarcopenia, Sciatica, Sitophobia, Solar Lentigo, Spider Naevus, Splenic Calcification, Splenomegaly, Strabismus, Stridor, Subileus, Tachypnoea, Telangiectasia, Thalassaemia, Thermal Burn, Thermoanaesthesia, Tinea Pedis, Tinnitus, Torsade De Pointes, Trichodynia, Trichorrhexis, Trismus, Urosepsis, Urticaria, Uveitis, Varicella, Vasospasm, Viraemia, Vitiligo, Wheelchair User, Xerophthalmia, Xerosis\n",
      "\n",
      "\u001b[32mCategory 25:\u001b[0m\n",
      "Accidental Exposure To Product, Counterfeit Product Administered, Device Breakage, Device Delivery System Issue, Device Failure, Device Issue, Device Leakage, Device Malfunction, Device Occlusion, Device Placement Issue, Device Use Error, Inappropriate Schedule Of Product Administration, Incorrect Product Administration Duration, Incorrect Product Storage, Incorrect Route Of Product Administration, Intentional Product Misuse, Intentional Product Use Issue, Intercepted Product Administration Error, Intercepted Product Dispensing Error, Intercepted Product Preparation Error, Intercepted Product Prescribing Error, Intercepted Product Selection Error, Intercepted Product Storage Error, Liquid Product Physical Issue, Manufacturing Process Control Procedure Issue, Occupational Exposure To Product, Physical Product Label Issue, Poor Quality Product Administered, Product Administration Error, Product Administration Interrupted, Product Availability Issue, Product Barcode Issue, Product Closure Issue, Product Colour Issue, Product Communication Issue, Product Complaint, Product Confusion, Product Container Issue, Product Counterfeit, Product Dispensing Error, Product Distribution Issue, Product Dose Confusion, Product Label Confusion, Product Label Issue, Product Leakage, Product Origin Unknown, Product Outer Packaging Issue, Product Packaging Confusion, Product Packaging Issue, Product Packaging Quantity Issue, Product Physical Issue, Product Preparation Error, Product Preparation Issue, Product Prescribing Error, Product Prescribing Issue, Product Quality Issue, Product Reconstitution Quality Issue, Product Size Issue, Product Storage Error, Product Temperature Excursion Issue, Product Use Complaint, Product Use In Unapproved Indication, Product Use Issue, Product Used For Unknown Indication, Suspected Counterfeit Product, Wrong Patient Received Product, Wrong Product Administered, Wrong Technique In Device Usage Process, Wrong Technique In Product Usage Process\n",
      "\n",
      "\u001b[32mCategory 26:\u001b[0m\n",
      "Acquired Gene Mutation, Allogenic Stem Cell Transplantation, Autoimmune Thyroiditis, Bile Duct Cancer, Biopsy, Bladder Cancer, Bone Marrow Infiltration, Bone Marrow Reticulin Fibrosis, Brain Cancer Metastatic, Brain Neoplasm Malignant, Brain Radiation Necrosis, Cancer Cells Present, Cancer Fatigue, Cancer In Remission, Cancer Pain, Cancer Surgery, Cancer With A High Tumour Mutational Burden, Chemotherapy, Chemotherapy Cytokine Prophylaxis, Chemotherapy Side Effect Prophylaxis, Colon Cancer, Colorectal Cancer, Febrile Bone Marrow Aplasia, Gallbladder Cancer, Gallbladder Enlargement, Gastric Cancer, Gene Mutation, Gingival Cancer, Head And Neck Cancer, Hepatic Cancer Metastatic, Hormone Receptor Positive Her2 Negative Breast Cancer, Implant Site Infection, Infected Neoplasm, Infusion Site Necrosis, Injection Site Necrosis, Laryngeal Cancer, Malignant Mesenteric Neoplasm, Malignant Neoplasm Of Thorax, Malignant Neoplasm Oligoprogression, Malignant Neoplasm Progression, Malignant Pleural Effusion, Malignant Transformation, Marrow Hyperplasia, Mastectomy, Metastases To Thyroid, Metastatic Salivary Gland Cancer, Myocardial Necrosis Marker Increased, Neoplasm Malignant, Neoplasm Progression, Neoplasm Skin, Oesophageal Cancer Metastatic, Pancreatic Carcinoma, Pancreatic Carcinoma Metastatic, Papillary Thyroid Cancer, Pharyngeal Cancer, Pituitary Tumour, Pituitary Tumour Benign, Platelet Anisocytosis, Pleurectomy, Polyneuropathy In Malignant Disease, Prostate Cancer, Radiation Necrosis, Radiation Proctitis, Radiation Retinopathy, Radical Mastectomy, Rectal Cancer, Rectal Cancer Metastatic, Recurrent Cancer, Refractory Cancer, Skin Cancer Metastatic, Squamous Cell Carcinoma, Stem Cell Transplant, Sweat Gland Tumour, Thyroid Cancer, Thyroid Disorder, Thyroid Mass, Thyroid Neoplasm, Thyroiditis, Transplant, Transplantation Complication, Tumour Excision, Tumour Exudation, Tumour Flare, Tumour Invasion, Tumour Lysis Syndrome, Tumour Marker Increased, Tumour Necrosis, Tumour Pseudoprogression, Uterine Cancer, Vulval Cancer\n",
      "\n",
      "\u001b[32mCategory 27:\u001b[0m\n",
      "Activities Of Daily Living Impaired, Apathy, Application Site Discolouration, Bedridden, Blindness, Blindness Cortical, Blindness Transient, Blindness Unilateral, Completed Suicide, Cystitis Noninfective, Dairy Intolerance, Deafness Unilateral, Death, Decreased Appetite, Discouragement, Disorientation, Disuse Syndrome, Dry Eye, Dry Mouth, Dry Skin, Dry Throat, Dyspnoea At Rest, Facial Paralysis, Faeces Discoloured, Failure To Anastomose, Failure To Thrive, Fall, Fatigue, Feeding Intolerance, Flat Affect, Flatulence, Food Aversion, Food Craving, Food Intolerance, Food Refusal, Frustration Tolerance Decreased, Gait Inability, General Physical Health Deterioration, Grip Strength Decreased, Hand-Foot-And-Mouth Disease, Hunger, Hypoventilation, Immobile, Immobilisation Prolonged, Immobilisation Syndrome, Impaired Healing, Impaired Quality Of Life, Impaired Work Ability, Intentional Underdose, Lack Of Spontaneous Speech, Life Expectancy Shortened, Listless, Loss Of Consciousness, Loss Of Control Of Legs, Loss Of Personal Independence In Daily Activities, Loss Of Therapeutic Response, Menstruation Irregular, Mobility Decreased, Mucosal Dryness, Nasal Dryness, Near Death Experience, Night Blindness, No Therapeutic Response, Nocardiosis, Non-Cardiac Chest Pain, Non-Pitting Oedema, Noninfective Encephalitis, Off Label Use, Paralysis, Performance Status Decreased, Peripheral Coldness, Peripheral Paralysis, Physical Deconditioning, Poor Peripheral Circulation, Poor Quality Sleep, Poverty Of Speech, Pulse Absent, Pupils Unequal, Quality Of Life Decreased, Refusal Of Treatment By Patient, Remission Not Achieved, Scab, Sedation, Sluggishness, Snoring, Starvation, Suicide Attempt, Sunburn, Tongue Dry, Treatment Noncompliance, Underweight, Unevaluable Event, Unintentional Medical Device Removal, Unresponsive To Stimuli, Vision Blurred, Visual Acuity Reduced, Visual Acuity Reduced Transiently, Vulvovaginal Dryness, Weight Gain Poor, Weight Loss Poor\n",
      "\n",
      "\u001b[32mCategory 28:\u001b[0m\n",
      "Actinomyces Test Positive, Adhesion, Affect Lability, Antimicrobial Susceptibility Test Resistant, Aplasia Pure Red Cell, Aspergillus Test, Aspergillus Test Positive, Benign Familial Pemphigus, Benign Prostatic Hyperplasia, Bile Culture Positive, Blood Beta-D-Glucan Positive, Blood Culture Positive, Candida Sepsis, Candida Test Positive, Candidiasis, Cardiotoxicity, Clostridium Test Positive, Cold Agglutinins Positive, Coombs Indirect Test Positive, Culture Positive, Culture Stool Positive, Cytokine Release Syndrome, Cytokine Storm, Device Adhesion Issue, Exposure To Sars-Cov-2, Faeces Soft, Glossitis, Glossodynia, Glycosuria, Growth Of Eyelashes, Guillain-Barre Syndrome, Helicobacter Test Positive, Herpes Simplex, Herpes Simplex Test Positive, Hospice Care, Human Rhinovirus Test Positive, Hypoaesthesia Oral, Insulin Resistance, Iodine Allergy, Klebsiella Test Positive, Labile Blood Pressure, Lipodystrophy Acquired, Lividity, Low Birth Weight Baby, Low Density Lipoprotein, Low Density Lipoprotein Abnormal, Low Density Lipoprotein Increased, Metastases To Soft Tissue, Microangiopathy, Minimal Residual Disease, Neisseria Test Positive, No Adverse Event, Nocardia Test Positive, Nodule, Oral Candidiasis, Palliative Care, Pallor, Paraesthesia Oral, Parenteral Nutrition, Platelet Aggregation, Platelet Aggregation Test, Polyarteritis Nodosa, Prescribed Underdose, Protein Urine Present, Purulence, Sars-Cov-2 Test Negative, Sars-Cov-2 Test Positive, Seroma, Serositis, Skin Warm, Soft Tissue Disorder, Soft Tissue Infection, Soft Tissue Injury, Soft Tissue Sarcoma, Somnolence, Splenic Varices, Systemic Candida, Tenderness, Tissue Infiltration, Tongue Coated, Tongue Exfoliation, Tongue Pigmentation, Underdose, Venoocclusive Disease, Vitreous Detachment, Vitreous Floaters, Vulvovaginal Candidiasis, Walking Aid User, White Blood Cell Disorder, Yellow Skin\n",
      "\n",
      "\u001b[32mCategory 29:\u001b[0m\n",
      "Abscess Bacterial, Acanthamoeba Infection, Acute Graft Versus Host Disease, Adenovirus Test Positive, Anti Factor X Antibody Positive, Anti-Platelet Antibody Positive, Antinuclear Antibody Positive, Arthritis Bacterial, Aspergillus Infection, Atypical Mycobacterial Infection, Atypical Mycobacterial Pneumonia, Atypical Pneumonia, Bacteraemia, Bacterial Colitis, Bacterial Disease Carrier, Bacterial Infection, Bacterial Sepsis, Bacterial Test Positive, Bacterial Toxaemia, Bacterial Translocation, Bacteriuria, Bacteroides Test Positive, Bk Virus Infection, Blood Bilirubin, Bronchitis Bacterial, Burkholderia Cepacia Complex Infection, Bursitis Infective, Campylobacter Colitis, Campylobacter Infection, Candida Infection, Candida Pneumonia, Chikungunya Virus Infection, Chronic Graft Versus Host Disease, Chronic Hepatitis, Chronic Hepatitis B, Clostridium Bacteraemia, Clostridium Difficile Infection, Conjunctivitis Viral, Coronavirus Infection, Coronavirus Pneumonia, Coronavirus Test Positive, Corynebacterium Sepsis, Covid-19 Pneumonia, Coxsackie Viral Infection, Cystitis Bacterial, Cystitis Viral, Cytomegalovirus Colitis, Cytomegalovirus Enterocolitis, Cytomegalovirus Hepatitis, Cytomegalovirus Infection, Cytomegalovirus Infection Reactivation, Cytomegalovirus Test Positive, Cytomegalovirus Viraemia, Dengue Fever, Device Related Bacteraemia, Disease Progression, Disease Recurrence, Disseminated Tuberculosis, Disseminated Varicella Zoster Virus Infection, Endocarditis Bacterial, Enterococcal Bacteraemia, Enterococcal Infection, Enterococcus Test Positive, Enterocolitis Bacterial, Enterovirus Test Positive, Eosinophilic Pneumonia, Eosinophilic Pneumonia Acute, Epstein-Barr Virus Infection, Epstein-Barr Virus Infection Reactivation, Epstein-Barr Virus Test Positive, Escherichia Bacteraemia, Fungal Infection, Fungal Sepsis, Graft Versus Host Disease, Helicobacter Infection, Hepatitis, Hepatitis A, Hepatitis Acute, Hepatitis B, Hepatitis B Core Antibody Positive, Hepatitis B Reactivation, Hepatitis B Surface Antibody Positive, Hepatitis B Virus Test Positive, Hepatitis C, Hepatitis C Virus Test Positive, Hepatitis Cholestatic, Hepatitis Chronic Active, Hepatitis Fulminant, Hepatitis G, Hepatitis Toxic, Hepatitis Viral, Herpes Virus Infection, Hiv Infection, Hiv Test Positive, Hiv-Associated Neurocognitive Disorder, Human Herpesvirus 6 Infection, Human Polyomavirus Infection, Idiopathic Interstitial Pneumonia, Idiopathic Pneumonia Syndrome, Immune-Mediated Hepatitis, Immunodeficiency, Immunodeficiency Common Variable, Immunosuppression, Immunotoxicity, Infection, Infection Reactivation, Infectious Colitis, Influenza, Influenza Like Illness, Infusion Site Infection, Jc Polyomavirus Test Positive, Jc Virus Infection, Jc Virus Test Positive, Klebsiella Bacteraemia, Klebsiella Infection, Legionella Infection, Localised Infection, Lower Respiratory Tract Infection Fungal, Lupus-Like Syndrome, Malaria, Meningitis Bacterial, Meningitis Viral, Meningoencephalitis Bacterial, Mycobacterium Avium Complex Infection, Norovirus Infection, Opportunistic Infection, Oral Fungal Infection, Organising Pneumonia, Pasteurella Infection, Pathogen Resistance, Penicillium Infection, Pneumococcal Bacteraemia, Pneumocystis Jirovecii Pneumonia, Pneumonia, Pneumonia Aspiration, Pneumonia Bacterial, Pneumonia Cytomegaloviral, Pneumonia Escherichia, Pneumonia Fungal, Pneumonia Haemophilus, Pneumonia Influenzal, Pneumonia Klebsiella, Pneumonia Necrotising, Pneumonia Parainfluenzae Viral, Pneumonia Primary Atypical, Pneumonia Pseudomonal, Pneumonia Respiratory Syncytial Viral, Pneumonia Staphylococcal, Pneumonia Viral, Pre-Existing Disease, Propionibacterium Infection, Pseudomonal Bacteraemia, Pseudomonal Sepsis, Pseudomonas Infection, Rhinovirus Infection, Secondary Immunodeficiency, Splenic Infection Fungal, Staphylococcal Bacteraemia, Staphylococcal Infection, Staphylococcus Test Positive, Streptococcal Bacteraemia, Streptococcal Infection, Streptococcus Test Positive, Superinfection Bacterial, Superinfection Fungal, Suspected Transmission Of An Infectious Agent Via Product, Tuberculosis, Varicella Zoster Virus Infection, Viral Diarrhoea, Viral Infection, Wound Infection Bacterial\n"
     ]
    }
   ],
   "source": [
    "# Print the resulting categories and their members\n",
    "for category in range(num_categories):\n",
    "    print(f\"\\n\\033[32mCategory {category}:\\033[0m\")\n",
    "    category_list = df[df['Category'] == category]['Adverse Event'].tolist()\n",
    "    category_word_list = \", \".join(sorted(category_list)); print(category_word_list)"
   ]
  },
  {
   "cell_type": "code",
   "execution_count": 16,
   "id": "b4e2dd42-e0ff-4cef-8b21-687989144438",
   "metadata": {},
   "outputs": [
    {
     "data": {
      "text/html": [
       "<div>\n",
       "<style scoped>\n",
       "    .dataframe tbody tr th:only-of-type {\n",
       "        vertical-align: middle;\n",
       "    }\n",
       "\n",
       "    .dataframe tbody tr th {\n",
       "        vertical-align: top;\n",
       "    }\n",
       "\n",
       "    .dataframe thead th {\n",
       "        text-align: right;\n",
       "    }\n",
       "</style>\n",
       "<table border=\"1\" class=\"dataframe\">\n",
       "  <thead>\n",
       "    <tr style=\"text-align: right;\">\n",
       "      <th></th>\n",
       "      <th>Adverse Event</th>\n",
       "      <th>Category</th>\n",
       "    </tr>\n",
       "  </thead>\n",
       "  <tbody>\n",
       "    <tr>\n",
       "      <th>0</th>\n",
       "      <td>Febrile Neutropenia</td>\n",
       "      <td>10</td>\n",
       "    </tr>\n",
       "    <tr>\n",
       "      <th>1</th>\n",
       "      <td>Cardiotoxicity</td>\n",
       "      <td>28</td>\n",
       "    </tr>\n",
       "    <tr>\n",
       "      <th>2</th>\n",
       "      <td>Malaise</td>\n",
       "      <td>15</td>\n",
       "    </tr>\n",
       "    <tr>\n",
       "      <th>3</th>\n",
       "      <td>Mental Disorder</td>\n",
       "      <td>17</td>\n",
       "    </tr>\n",
       "    <tr>\n",
       "      <th>4</th>\n",
       "      <td>General Physical Health Deterioration</td>\n",
       "      <td>27</td>\n",
       "    </tr>\n",
       "    <tr>\n",
       "      <th>...</th>\n",
       "      <td>...</td>\n",
       "      <td>...</td>\n",
       "    </tr>\n",
       "    <tr>\n",
       "      <th>3425</th>\n",
       "      <td>Serotonin Syndrome</td>\n",
       "      <td>11</td>\n",
       "    </tr>\n",
       "    <tr>\n",
       "      <th>3426</th>\n",
       "      <td>Mydriasis</td>\n",
       "      <td>20</td>\n",
       "    </tr>\n",
       "    <tr>\n",
       "      <th>3427</th>\n",
       "      <td>Disorganised Speech</td>\n",
       "      <td>15</td>\n",
       "    </tr>\n",
       "    <tr>\n",
       "      <th>3428</th>\n",
       "      <td>Anal Inflammation</td>\n",
       "      <td>6</td>\n",
       "    </tr>\n",
       "    <tr>\n",
       "      <th>3429</th>\n",
       "      <td>Fibromyalgia</td>\n",
       "      <td>16</td>\n",
       "    </tr>\n",
       "  </tbody>\n",
       "</table>\n",
       "<p>3430 rows × 2 columns</p>\n",
       "</div>"
      ],
      "text/plain": [
       "                              Adverse Event  Category\n",
       "0                       Febrile Neutropenia        10\n",
       "1                            Cardiotoxicity        28\n",
       "2                                   Malaise        15\n",
       "3                           Mental Disorder        17\n",
       "4     General Physical Health Deterioration        27\n",
       "...                                     ...       ...\n",
       "3425                     Serotonin Syndrome        11\n",
       "3426                              Mydriasis        20\n",
       "3427                    Disorganised Speech        15\n",
       "3428                      Anal Inflammation         6\n",
       "3429                           Fibromyalgia        16\n",
       "\n",
       "[3430 rows x 2 columns]"
      ]
     },
     "execution_count": 16,
     "metadata": {},
     "output_type": "execute_result"
    }
   ],
   "source": [
    "df"
   ]
  },
  {
   "cell_type": "code",
   "execution_count": 17,
   "id": "0d8141dc-51b4-44c3-b19e-60b03c35086a",
   "metadata": {},
   "outputs": [
    {
     "name": "stdout",
     "output_type": "stream",
     "text": [
      "'FAERS_AdEvents_NLP_v001' script run time: 3 min 1 sec.\n"
     ]
    }
   ],
   "source": [
    "elapsed_time = time.time() - start\n",
    "minutes, seconds = divmod(elapsed_time, 60)\n",
    "print(\"'FAERS_AdEvents_NLP_v001' script run time:\", f\"{int(minutes)} min {int(seconds)} sec.\")"
   ]
  }
 ],
 "metadata": {
  "kernelspec": {
   "display_name": "Python 3 (ipykernel)",
   "language": "python",
   "name": "python3"
  },
  "language_info": {
   "codemirror_mode": {
    "name": "ipython",
    "version": 3
   },
   "file_extension": ".py",
   "mimetype": "text/x-python",
   "name": "python",
   "nbconvert_exporter": "python",
   "pygments_lexer": "ipython3",
   "version": "3.12.3"
  }
 },
 "nbformat": 4,
 "nbformat_minor": 5
}
